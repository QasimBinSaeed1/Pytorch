{
  "nbformat": 4,
  "nbformat_minor": 0,
  "metadata": {
    "colab": {
      "provenance": [],
      "collapsed_sections": [
        "_Lpk2qqoEWUt",
        "-KmNkIwyYYSV",
        "2lbCYJ0FGTiq",
        "3t5VyjB5YjQh",
        "cMM_qsp7bc1u",
        "mb1bFHNcq8S5"
      ],
      "gpuType": "T4"
    },
    "kernelspec": {
      "name": "python3",
      "display_name": "Python 3"
    },
    "language_info": {
      "name": "python"
    }
  },
  "cells": [
    {
      "cell_type": "markdown",
      "source": [
        "## ***Basic Pytorch***"
      ],
      "metadata": {
        "id": "_Lpk2qqoEWUt"
      }
    },
    {
      "cell_type": "code",
      "source": [
        "import torch"
      ],
      "metadata": {
        "id": "Msiq72MD5If9"
      },
      "execution_count": null,
      "outputs": []
    },
    {
      "cell_type": "code",
      "source": [
        "w = torch.tensor([[1.,2.]],requires_grad=True)\n",
        "x = torch.tensor([[5.],[6.]])\n",
        "b = torch.tensor(7.,requires_grad=True)"
      ],
      "metadata": {
        "id": "omkO6Y_o5KU5"
      },
      "execution_count": null,
      "outputs": []
    },
    {
      "cell_type": "code",
      "source": [
        "wx = torch.matmul(w,x)\n",
        "y = wx+b\n",
        "print(\"Result:\")\n",
        "print(y)"
      ],
      "metadata": {
        "colab": {
          "base_uri": "https://localhost:8080/"
        },
        "id": "VpbTdTuV6Ceo",
        "outputId": "f015885a-5e67-4660-92e8-f189787eff52"
      },
      "execution_count": null,
      "outputs": [
        {
          "output_type": "stream",
          "name": "stdout",
          "text": [
            "Result:\n",
            "tensor([[24.]], grad_fn=<AddBackward0>)\n"
          ]
        }
      ]
    },
    {
      "cell_type": "code",
      "source": [
        "y.backward()"
      ],
      "metadata": {
        "id": "uc62ex9q6xNH"
      },
      "execution_count": null,
      "outputs": []
    },
    {
      "cell_type": "code",
      "source": [
        "print(\"dy/dw\",w.grad)\n",
        "print(\"dy/db\",b.grad)\n",
        "print(\"dy/dx\",x.grad)"
      ],
      "metadata": {
        "colab": {
          "base_uri": "https://localhost:8080/"
        },
        "id": "A99tlp4S8LfG",
        "outputId": "b62a9d9b-5ca3-40cc-8fd0-33394f62ada0"
      },
      "execution_count": null,
      "outputs": [
        {
          "output_type": "stream",
          "name": "stdout",
          "text": [
            "dy/dw tensor([[5., 6.]])\n",
            "dy/db tensor(1.)\n",
            "dy/dx None\n"
          ]
        }
      ]
    },
    {
      "cell_type": "markdown",
      "source": [
        "## ***Linear Regression***"
      ],
      "metadata": {
        "id": "-dH7Q-mOEfsC"
      }
    },
    {
      "cell_type": "markdown",
      "source": [
        "### ***CUSTOM***"
      ],
      "metadata": {
        "id": "-KmNkIwyYYSV"
      }
    },
    {
      "cell_type": "markdown",
      "source": [
        "#### ***Dataset***\n",
        "Data Set is generated with 3 Colummns of\n",
        "\n",
        "*   Temperature\n",
        "*   Rainfall\n",
        "*   Humidity\n",
        "*   Soil Fertility\n",
        "\n",
        "The last Column is the Yeild of Apple(Target).\n",
        "\n"
      ],
      "metadata": {
        "id": "2lbCYJ0FGTiq"
      }
    },
    {
      "cell_type": "code",
      "source": [
        "import numpy as np\n",
        "\n",
        "# Set a random seed for reproducibility\n",
        "np.random.seed(42)\n",
        "\n",
        "# Generate dummy data\n",
        "num_samples = 20\n",
        "\n",
        "# Generate random values for features\n",
        "temperature = np.random.uniform(10, 30, num_samples)\n",
        "rainfall = np.random.uniform(50, 200, num_samples)\n",
        "humidity = np.random.uniform(30, 80, num_samples)\n",
        "soil_fertility = np.random.uniform(0.5, 1.5, num_samples)\n",
        "\n",
        "# Generate random values for output (yield of apple)\n",
        "yield_of_apple = 10 * temperature + 5 * rainfall - 3 * humidity + 2 * soil_fertility + np.random.normal(0, 10, num_samples)\n",
        "\n",
        "# Stack features and output into a single numpy array\n",
        "dummy_dataset = np.column_stack((temperature, rainfall, humidity, soil_fertility, yield_of_apple)).astype(int)\n",
        "\n",
        "# Print the dummy dataset\n",
        "print(dummy_dataset)\n"
      ],
      "metadata": {
        "colab": {
          "base_uri": "https://localhost:8080/"
        },
        "id": "mu4uRcrOEmBg",
        "outputId": "6f002068-dc39-4f84-986d-3db111ed52a3"
      },
      "execution_count": null,
      "outputs": [
        {
          "output_type": "stream",
          "name": "stdout",
          "text": [
            "[[ 17 141  36   0 780]\n",
            " [ 29  70  54   0 491]\n",
            " [ 24  93  31   1 618]\n",
            " [ 21 104  75   0 517]\n",
            " [ 13 118  42   0 584]\n",
            " [ 13 167  63   1 770]\n",
            " [ 11  79  45   0 384]\n",
            " [ 27 127  56   1 757]\n",
            " [ 22 138  57   0 742]\n",
            " [ 24  56  39   1 421]\n",
            " [ 10 141  78   1 580]\n",
            " [ 29  75  68   0 460]\n",
            " [ 26  59  76   0 338]\n",
            " [ 14 192  74   1 897]\n",
            " [ 13 194  59   1 932]\n",
            " [ 13 171  76   1 782]\n",
            " [ 16  95  34   1 512]\n",
            " [ 20  64  39   0 418]\n",
            " [ 18 152  32   0 855]\n",
            " [ 15 116  46   0 597]]\n"
          ]
        }
      ]
    },
    {
      "cell_type": "code",
      "source": [
        "x_numpy = dummy_dataset[:, :4]\n",
        "y_numpy = dummy_dataset[:,-1]\n",
        "print(f\"x :\\n{x_numpy} \\n and y :\\n{y_numpy}\")"
      ],
      "metadata": {
        "colab": {
          "base_uri": "https://localhost:8080/"
        },
        "id": "EoRLw6B3Evbq",
        "outputId": "1102a282-5d60-4bb5-a07b-473e4c2e432a"
      },
      "execution_count": null,
      "outputs": [
        {
          "output_type": "stream",
          "name": "stdout",
          "text": [
            "x :\n",
            "[[ 17 141  36   0]\n",
            " [ 29  70  54   0]\n",
            " [ 24  93  31   1]\n",
            " [ 21 104  75   0]\n",
            " [ 13 118  42   0]\n",
            " [ 13 167  63   1]\n",
            " [ 11  79  45   0]\n",
            " [ 27 127  56   1]\n",
            " [ 22 138  57   0]\n",
            " [ 24  56  39   1]\n",
            " [ 10 141  78   1]\n",
            " [ 29  75  68   0]\n",
            " [ 26  59  76   0]\n",
            " [ 14 192  74   1]\n",
            " [ 13 194  59   1]\n",
            " [ 13 171  76   1]\n",
            " [ 16  95  34   1]\n",
            " [ 20  64  39   0]\n",
            " [ 18 152  32   0]\n",
            " [ 15 116  46   0]] \n",
            " and y :\n",
            "[780 491 618 517 584 770 384 757 742 421 580 460 338 897 932 782 512 418\n",
            " 855 597]\n"
          ]
        }
      ]
    },
    {
      "cell_type": "markdown",
      "source": [
        "#### ***Model and Loss Details***"
      ],
      "metadata": {
        "id": "po4omGqCSkZf"
      }
    },
    {
      "cell_type": "code",
      "source": [
        "import torch\n",
        "x = torch.from_numpy(x_numpy.astype(np.float32))\n",
        "y = torch.from_numpy(y_numpy.astype(np.float32))"
      ],
      "metadata": {
        "id": "AjFGKDytIBer"
      },
      "execution_count": null,
      "outputs": []
    },
    {
      "cell_type": "markdown",
      "source": [
        "![image.png](data:image/png;base64,iVBORw0KGgoAAAANSUhEUgAABIYAAAKKCAYAAABI/VBBAAAAAXNSR0IArs4c6QAAAARnQU1BAACxjwv8YQUAAAAJcEhZcwAADsMAAA7DAcdvqGQAALgcSURBVHhe7N0PlNV1ve//D2UKSQn5BzA1UDpBxxKWXoOiAPPPjHWFaVmAdWNY1yNw4yTYrwuspYHlugyncwCLcwBPdzF0S/DkCvSWkBrCORTksQWaN8YiIRUBNcFCQbP8zeuzP5+Zz+zZe2b/+e69v9/vfj7W2s7nu8Fh2OzZ8/2+9vv9/vS5YuI1b5kc+riPSeT/Qvn+DuX+OoDKyH4xqvb3YM4XQ6e314tsxf5+RMc/9tE/1sV/xkKfw8U+j1C8x5/YbV76w4vuqKuzzjzbXPLh0e4ISIPSXgGzX3N6+yy8RkUkqh9Yxf6DRPXnVgjPLyB6D217yK266vPSiy8V9JLw17/+1a169ra3vc2tesbny43PlxufLzc+X258vtz4fLnx+XJL2+d75ZVXzCt/fMWus53x7jPMwIED3VHP+PfIjc+XW5I+39z/+Rtz7I9/dkcZ73jH28y/fnskj18efL7c+Hy58fly4/PlVqnP95lJnzEvHHnRvH7ydXvs9XmrnVsDAAAAqEMTGn/pVp2u+9TZ5pY5F7gjAEDSXT3xanPo+cPm5ImT7p6MwuIlAEDl7fsPY1Z8MnPbs9HdCQBAZb18tGul0LbNl9oboRAA1AeCIQCIix8tNubYwcxNawAAquDuHxxxK2OGX/ROtwIA1AuCIQCIi8umuEW7N1835vhL7gAAgMrZuu1ltzKm+fND3AoAkE6aJtR1ohDBEADExbibjBn+cXfQru1htwAAoHLCVrJxYwe4FQCgXhAMAUCcXHytW7R78gG3AAAAAIDKIBgCgDgZ8Um3aHfgUbcAAAAAgCh1tpMRDAFAnPR9t1sAAAAAQOURDAEAAAB1as8Tf3IrYwYPOs2tAAD1ITOImmAIAAAAqFNb//2oWxlzxfiBbgUAqCcEQwAAAECd2vHzY27FjmQAUK/6vNXOrQEAcbB4hFu0W9zmFgAARG9C4y/dyphtmy91KwBIruOv/sXcu/GI2fLwy+bwkdfdvcVRa23z54eYhqvOdPekw9UTrzaHnj9kTp446e7JoGIIAAAAAAAk3v0/ftFMbf6Vaf3+oZJDIdH/u2zlM+4o/QiGAAAAAABAoikUUphz/Phf3D3lSVu1UE9oJQOAuKGVDABQJbSSAUiLz9zwhHn56J/tOq2tYOXK10pGMAQAcUMwBACokloEQ48+9oq5+wdHTMOVZ3LRhoLoObNs5bO9tgYpDLjhs4PMdZ86292DehK+nj1432hz6qk0SGXLFQz1ab/xSAEAAACompZlvzd7nvhTXc3vQHkKCYXEz4W5+98Ou3tQrwiFeqYwyN+ERwsAAABA1fhWjzfe+Kv9CPTmumvPcqvCaPAwgNx8GBQiGAIAAAAAxNYNnxtsWx17uql1yCN0BIpDMAQAAAAASDRah4DS8d0DAAAAAIgtDZ+e2vykHS7sbzre8tAf3O/ICMMhzbECUBiCIQBAvO37D2Nav9h+hrfR3QEAAOqJBpZnD5/2g6ZD48YOcKvM/0NLGVAYgiEAQLxtWmjMgUeN+dFidwcAAKgnfmB5toarznSrjDkzzzP9+7/drhUcrbzrObsG0DOCIQBAvB1/KfPxzd63qQUAAOkWDpy+Zc4F7t6M9wx8h5lz0/nuyHRrNQOQG8EQAAAAACC2ihksHVYR0UoGFKbPW+3cGgAQB4tHuEW7xW1uUcd4PJAAuvj4ddur9rbv6RP2Y/Y8jKgNHnSaaf78kG6tFEAxNMTXUwVGpWh48LKVz9p1+L1RyT8T6XD81b+YT1+/x67VJvajH4yy655U63mNeOHfvXdXT7zaHH7+kDl54qS7J4OKIQAAgBLoYqX1e8+bL970/8zVk3abufN/Y+5ae9Bs3f5yxUMhyTV4FYgrPzy4Gt8bSJdnnu28gL3gvL5uBSBKBEMAAAB5+PAne5tk3fQOduv3D3W5aKk2qoWQFPmGBwO92fe719zKmOEXvdOtAESJVjIAiBtap7ri8UAV+XaXUqoaPjjidHvR8tNHXjavvvYXOxPjwftGu18F4qlarRfhnxOi3QO90c5i9248Ytfadez6yYPsuifVel6jOPoZe/cPjpiGK8+syBsbqt71c6W+888jzfALCRKz5WslIxgCgLghCOmKxwNVpMqgYkKhXHN+uCBBXJQTdFYT87LQk/952z77XJZ/+MZwc/llZ9h1T3gdjqfP3PCErR6s1BsnX2/Zb9u5ZdSH32W+tmCY3akOnZgxBAAo3b7/MGbFJzO3LUs6t5AHUua6a89yq066aF1wy1B7cZF929B6MReziK0khEKir5F5WciHVrL08C2lldot7obPdVaT7XniT/bNHlWc0craO4IhAEDvfrTYmGMHM7dd64z5x3GZkOixDe43AOlww+cGE/4gNXIFnXHF9xhyUYDgL+pVZUL1B3qi1rHrPnW2O8o8f9SGqIDo7n877O5FLrSSAUDcxLF1asddxjy8zB1kufIWY8bd5A4qgFYyJAwtDEiSaj1fwz8nxPcIerLv6dfMjV/aa9eqFvrOypF23ZskvA5Xet5OHFXr32XHzmN2c4iw2kxumvFe+wZQPWPGEAAkRZyDkLaH23+S/7MxhzMnadYppxlz6+PuoAIq/HgkZQZHVJjlUXkEQ0gSgiHEmS7wb/367+x63EcHmDtuu8iue6IKI82y8eL6HKv0vJ04qvbPx3wBkc6FbvjsoC7VRfUidzD0Fq1kAIAijLjSmFkbM0GQAiF58/X2n+4rM+sEqqdQSJjlAVSOgua5839jtjz0B3cPgHI882znxesF5/V1q54pCPDiPJOo0vN24kghmHf4yBtuVTnjxg4w/7LsA13+XPHnQq3fe97dU69UI5SpEyIYAgAUT6HQZVPdQTsFQ2EVUYIkaQZHVKgWAiqjZdnv7cBTwtf4IrxLlsMvdIYHg8851a3y04X+/T9+0R0ZWyGL+PjgiNPdKjMcuhoUCuV7HihEVBVTeNM8ovA5lF5dG8doJQOAuEnKTB1VCn3v74w58GjmWNVEUytQOcSMISRMtUvlER9J/Lev1tcc/jmhaj9O9di+k2QK8XyAsGLp39gtyHM5/upf7EW+Bg172tZe29vHVT3+rFBw5yu6Gq46yyy45X12XU2q0Lr1G0/bkLgnaW29v3riVebw84fNyRMn3D0ZVAwBAEqjqqGGhe6gnZ0/lNyWMgBA5WS3ctRKPbbvJJmGT3sXnJ+7lUzVHVObf9UtFLrjtgvdEUqh4ETVM7rlq7BTaKfw7q61Bwv6ngqDvWpVDGXTa5GeGwqmeqJ2s5ZlB2yAp1tPj0MaEAwBAEo3eGT7T/kmd9BOwVCU4dDxl9wCAJBkwy/s51bGvOMdXILEkW+zi1MbzfHjf3Er022relUJrbzrOdu6Gf4+HwrFJYxMKrXGKhzJN5tQIev/vG2fDXi0FfyNc/aaX7e96n41N7WS+X8Xfd5whlQ16WtQtZIqtcKbqgjzBUY+KEprQMR3CwCgPJ9e3H7G/3F30C7KeUNUIAFAKoRDgMdc9m77sR53BIozbcagi3yFALrQjxtdjOui3FdwfPr6PV2qhNT6s+CWobZ9jFCofL66TnK1U2mr/bBKSCHP/5jX1uNzR/8ul7vvf7l/c7zeAPSBkba1zydfUJZ0zBgCgLhJ4kyd7HlDlcKMISRAPc6NQEYS/+2r9TXfu+mIWbnmObu+vmmQmXPTeXZdbXx/5qfqGx+06AK5kBlMqtrR/7Pl4ZftBXPUc1kmND7W/l+FPMVfssZ9Rkzcn4u9fX2f/uyejkotPV/CkEiPe/MXznVHXWkL+Vu//ju7VhXYhtaLYx/kKexSu1woqa8fzBgCgKTw28DLyT+6RcxlzxsCACAQbjVeq/YR9Oym5s4L+Z7mxYSVO6ra0TBhhUISfTVFaaGQpLWyIw5UWeZDof79327DnXB+kJ4T+baC1xbyvi1QVUkKiuLuhs8NTn2QTDAEAHEzOKgYemm/WySA5g2FW9gDAOCErWT7ftc5UBjxoaqNsHIjV0uQ5g9pzooPgnKJdrB3ec0t+lrSPDC4VsLB0ePGDrRBj1r4NN/JUzgUDg8PXXdt5xyf+x9IzjzJ8PsjbLVLA4IhAIgbBSxeVLN6qkXzhtTuFeUNQFX5AbRcTCFKunBUZYHogqqWQ2c9tUHFRVy+78K5T35bcfE7VOWqwPGzfSpNFRuF3sJ/Z6qGordjV+dW76M+1N9+1GOuod/ZlUO5hM+zfLuTFbIrWrWFf7cdP49/pVMxCIYAIG7OGuYW7ZJUMQQgFbQTjR9Am2ZqXwgH2Wbf4nQxkhbhRVWths6Gu6P9eu9xt6q9uHzfqZ3MhyqqtvFVERpMnV0lpBlECmHURhQOFI4Dzbjxoq1ggp4TYdXfuI8OcKtMODRnZuf8MIUnuVrKsneYy8U/5+LUEnjFJwa6lTFb//2oW6UDwRAAxM1ZF7pFu5eedgsAqA5/IRini6moqyn0d/x6y/4e22H8xUgcd2dKqoYrO4cAb932ck2eYx8cmalukH1Pdx2+Wktx+b7ThX2uqoiw9UdU8RFW5YSVIWHbYK1oJgwq49HHOudfavv5/qdnKgG94Re+s8uW7z3NG+pJ+JyLy8+jMATLV+mUVARDABA3SW4lA4AKiLqa4q61zxd0oaHfo51o8s3JQHHiMHR2+LCgYuipV90KoVxVEX74rr/dMucCe7/ool+zh7ywWgfp8+gvO4Ohyy/NXSl2y5zzu80bKjYc0nMuDB/j8DqcHYKlCcEQAMRN/7OM6et+0B5/KTk7kwFAhURVTaG5Nv9jXpvZ8lBnG9MdX7uoywWvbjfNeK/71Yxl334mde8O10qth84Ov6gzGNr3u/hUDMWJqiL8Bbme9z1dkCs4DauFFAYoAIyDLhVNJVSsoLvsQDcMf0J67DVvqNxwKHwuhc8zZuFFj2AIAOIo3JnsucfdAgBQKl1A3Dhnr/l1W2eVSL6LWL1T/Z1/7qze1P+ji5DP3PAEFyJlyh46e/jIG+6oOtTm4vXUSljPVBURzgwKL8g9H7KGrZb6flIYEBfhc01/B9pCy3f3D450BPRqGVQrWT5RhEM3fG6QW3Ud9lwvs/CqiWAIAOKIdjIAiIyCHV1A+AsaXbCoKkjbK+ejACG7JUbvlmurblrLSqdWsvBCcev2l90K+SiM7GlQeqk3fU59X+TaIS587mcPEL5305GcIatCgLBKp9Y0SDt8rqm6yVcfonh67IptGcwXDhVagRkGuaGoqkjrWR/30SMYAoA4Ou/DbtHuuSfcAogfyrkRd9qSXIOm/QXEBef3Nd9ZObKg4bTNXzjXVg5d3zTIbsnt5aqgQOHCGTa1mDOUJLoQVxhZieomfU59/i/e9P9ci+UfOqtBcgwQVsWNfv/KNc/lDFnjFAqJDyXCqpa0bTFeTdnVQoW2DPp/h3CouSp+UBsKhHwoFK4JhgAgjqgYQkJQzo24Cy+qMxcoF9lwqFC6QJ5z03nmjq91tsjo4pK2lNKFO/uEVSfoSkHNXa0H3VFl6d9B3yuf+fwTZuVdz9mKjJwDhLNCUVWAFbL1eK3oe/66aztbytK2xXg1aSdBr9gB4/p3+NqCYaZ//8zw5kq1cfJmVWkUDhEMAUAcacv6U9y708eqc1KI9KvECVMcyrk5EUQ+an8JKwS0k1IxoVAoVwUFSpPmnX2ioueugprjx//i7jHmwftGdxuUXs7tX5aPsM9pXbR7+vPu3XjEtpnd1fp8l93H9DqvCryQLvD1xkCcX3/TvMV4tehx8z/vVT1ZyoBxBYhzbjrfHVUGb1aVjmAIAOLqTYZiIlppPWHiRBC56MI6DG90Adxw1ZnuqDSqoPAX0bpIzp7ZAkRBFTvZwaMGKYcBThTUYrXglveZH9794W6hqZ7fmYDoV+6ejFyVIvq9cQ6HCCLLF1ZaXTG+sxW0WHoNDoO6YvX2Whu+WaXfp4CT6s7CEAwBAJBi2vFHJ+sKT9I6rDGtfy+ULjsU0gWwQp1y2baUYKcjJFMYsPjXjzhRIOOplUuVQmHlTtQUnOh5/d27/tbc8bWL7PyYfDSby1ccabaQ58MhVJ5+ple7SjasvCylWij0tfnDurQo9qaYQDT796qiTUPH2TCgdwRDAACkjEr9dWGsd8r0bq/aEbY89JL7VSDdskMhXYCsWPo3kVVbaKejsKUsF8KjeAuH4JY6jNi/zlbyAl3P3Wrv9KWLfg1nzxUQZT+vFRJlh0NUZ+QXvlGjn88hXwlTyE0/032VbLXeEAkD1J62qC+Ens96Xl8x/j32uLcKomLmGeX7vRqYHscQOE76vNXOrQEAcbJ4hFu0W9zmFnWIx6EbnRBqUOi+p0/Yj8UOcdTJfVTvPusk1dM7yLVQ7tegGUXabaXhyjPLbjWSODwm5Yjj11/o15QrFKr2hXXS1Orfu5bPs8zF+QG7Vkik4LBQqjzY8vDLNmwP5/+U+3cIHw/NcNEFbhSvR9Wg1jdf5aTvNVU4RSWq50n4eQpVzL+DnlN67anUUOVcFKxooHOlXD1pd7fgSa+p2oGu1gp5Xuh79cYvdW7gouemzn3K/b6q5WtXFK6ZeJU5/Pxhc/LECXdPBj8lAQCIOZ3c6MT7xjl77QmJ3qFWafTW7S/3ehKqEyGdyOldXQ0a1UlMJVsSkogZRelAKFSatD8+Cn5VnaHXTn/zoZDoez/8td5uutBUCBKGQuXMTMnlu3d9MDGhkKiKzou6giWq52cpn8cP1u6NtvDXc6raoZDmQ1VSWH2jkGzBLUNjEQoVShsGhFVuem7q36mctrI0Vx1RMQQAcUWlTEYdPg4qN9fFyp5fHbcfSznZrNY7zrpQ8mr1zlm5X0PUf4c4PCbliOPX39PXpJP8eze9aCs4vCSHQgoylq18tuP7vtLfy2r9UdAcZSVhIar1PPvMDU9U7GIuyn+bsDqD141OUT0//ecpViF/bqHPMb0eqUJt1If624//Y17nOU0S/81rqZjn246dx+y//TPPnnT3REOtlmq7TJp8FUMEQwAQVwRDGSl+HBQA3f/Ai2br9qNFhT86odQJyQXvPc1+LLffvxxxCBHK/Rqi/jvE4TEpRyFfv8IYPX/3/e41s2//ifaPJ7o9h6O8aA6/pt4kvVJI1S3Zj6X+LlG258RBtb5PcrXDlENbbqtC6IpPDOwyq6hctQroopL0171yhM8xfZ8W+tpTz49ZuYp97LLbyqKgOVzlDuKuBYIhAEgagqGMFD4OagHTjApVBhSiUhciUSjm5EzDWtWCob97IUGYggVti6twId+Jtj7np6/f445KO7mO+uQ86Sf74devixzNsfIzrZ557qQNgwoVVaBR6MV9GtrH8lU2aA5O3L7/y1GtCpl8gUvSv0/jpp4fz1JDPZ6DpSvlsVNboNr+oqCfNUlqqwsRDAFA0hAMZST8cdCFT3hhrdaw3krOdVGrC0Bfbl7LiqDe9HZyFsVAzgvO72tnG2Q/DjrBu6v1YNkDYKM+OU/yyb6qgLSTXfspYvut/FPEqKofemoDiXNwWq6vt+y3QbIoKNXsmSSHXqFaV8hwUR4tHs/i8ZiVjseudNdMvDIIhvSzPoNgCADiKm3B0J6NmduopsytUAl5HLLngogu4HqrctC7Tg1Xvqdj29akibpNoydha5JCoeyhoKW+gxf1CWa1KiHKUW5gp7BO/x4f/MA77Vo3DfpEtBQif/Gm/9cRfia1zSiOuLCMFo9n8XjMSsdjV7quwZDXh2AIAGIr6cGQQqBtK405lvUu/ymnGbPg0czHQiTkcShmwKkqHBRuXHft2e0X16e6e5Mp3Ka4EMXMnVF4sfKuZ7tUBCls0+MXBhrFfM5coj7BrHUlRE9yBZi9UaWWZlkNH9av5jOt6lG4tbqe/2mbNVQrXFhGi8ezeDxmpeOxK13uYIjt6gEgvsLg5KWn3SIhHl5mzKaF3UMhGXFl4aFQgmjWTT66kPYhgbaM/+HdH7bbxyc9FBJtU9xw1VnuKDdVQ+liVidvG1ovLjjA0e/77l1/ayuBPFXiZIcacdva+YbPDbZ/1zhWdvQWCmXalDpLy/X30HNWfxc9hwmFqi98blerOg8ohIJmDUsPL9IBJBPBEADE1fCPu0W7x+5xi5hTgPWdKcbsuMvdkeXiTxkz+X+5g3TRRXM2XVSn/cJaQcKCW97X8XfNdfvagmEucCieqoPUHnZ90yB3T1d6TEv93PXoums7Q7wwsPO3TDUKxeQAelds9SGA+OJMCgDiatRkt2j35I+NeTNmJ19qFVvxyUyrl7+tvNaY5x53v6Gdwq1b24/VAqbb9f+UymohmXPTeXbrUrXaiIbhIjrZlUkKhBRkxLEqJ858NZNu5QR2ABAGzV6uN0kAxB9nAwAQV2q56u9Ouo6/ZEzbw5l1HDy2IX+rmCj8ufIWY77wr6kNgnIZN3aA+c7Kkfai+47bLnL3IgrZlUkEQgBQW2HQzGszkGwEQwAQZ5dNdYt2cWon01DpfM67xJhZG40Zd5O7AwAAACEqNhEnPBsBIM7CYOjAo8ac/KM7qDFVMHlhq5huN95jzFkXul8EkDRcrABA5Wk3TaH9DnHAT34AiDO1kqkCxwvn98RFHbWKAfWAixXUAwJQ1Fqcd7BE/eEVEQDi7rxRbtHu8F63AIDK4GIF9YAAFAA6EQwBQNwNHuEW7Z57wi0AAECpCEABoBPBEADEXRgMUTEEAAAAIEIEQwAQd4NHukW7fNvDAwAAAEAJCIYAAAAAAADqFMEQAAAAEFPHX/2LW3U6fOQNs+WhP5iWZb83U5ufNBMaf2k/6j4AAHr0lrsFCIYAAEBdY9tqxNG+p18zK+96zkxt/pW7JyMTAv3KtCw7YLY89JI5fOR1e78+Llv5jF0DAFAMzoQAIAlOOc0t2h141C0ARIFtqxEXjz72SkcF0I1f2mvu3XjEHD/evWIon4arznQrAAB6EVQNEQwBQBKMuNIt2m1aaMybmXeIAZSPbasRF2oN8xVAPVGV2+WXnWFumvFe8y/LR9jnL89hAECpCIYAIAkaFhrT992ZtXYm27Iks66VsIKJndIAoGyt33vevHz0z+4oPwVCD9432vzDN4bbUPODI053vwIAQJHcvCGCIQBIgv5nZcIhb89Gt6iR8y5xi3b7/sMtAACluP/HL5rW7x9yR929Z+A7bKvjiqV/YwMhAACiRDAEAEkxqskt2tW6lWz4OLdot2+HWwAASnHvfS+4VacwDPrh3R+2bWKjPvwu96sAUL/YNCJ6PKIAgOIN/7hbtFPFEDOPAKBkYeBzxfj32FYxwiAAyI1NI6LX5612bg0AqfX0lq3mF0u/bS6ePsV8qHmquzeBFo9wi3aL29yiRlZ8snO+UPN3jRl6eWYdtTj9nQEAAICEumbilebwwcPm5IkT7p4MKoYA1IUHZnzZPLPtZ+bB2V9196BsYRDU9lO3AAAAAJAkBEMA6sKrhzPzG948SctTZEZ80i3aMYAaAAAASCSCoRTasmWLGTZsmOnTp0+kN33O2bNnm23btrk/CUBNvfS0W9RIWDFU668FAAAAQEkIhlJoxowZ5sCBA+4oOvqcq1evNhMnTuwSFrW2trrfAaDiTjnNLdqtvNaY70zJbF1fi+HPfd/tFgAAAACSimAohQ4fPuxWlaewSEEUIRFQJZdlDc5+7nFjNi005h8/bsy9XzHmsQ1U7wAAAADIqY95y96MvWUQDKWcNp2L6rZ7924zd+5cM3ToUPfZu1JIpFYzwiGgghoWGnPjPcaMaupaPXTyj8Y8+WNjfrQ4U0n0j+MIigAAAADk1Mf+NxMQsV19Cql6x6vkP29LS4tZuLD9IjVL3759zfLly82sWbPcPUDtLe1zjlsZM/+tzCDqxLNh0APG7Ppu7+FP/7OMGfoRY0ZcYczwj0fXBlaNreTZrh4AAAAom7arP3LwUJft6pUYUDGUIm1tbWbs2LHuKBPQVNKCBQs6qomWLFni7m2/Vj150lYOqbVMM4kAVIjCHbWWzXnAmFkbM9VEI67MHfocfylTUaQqopbLjWn9ojG71pVfTRRWLak6CQAAAEBiqKyEYCgltBPZ6NGjza5du9w97deJVazYUUgUhkPiW8sWL17s7kGSPb1lq1k/scn8qpWL/1gaPNKYMdONmbqy/Rvy0d6DogPtv2dL+/es2s5007qULefDmUf6HJp5BAAAACAxaCVLiZEjR9qKIVGl0KJFi2xYU22+Wih7zpC+HgKiZFs55GLz6uEXzCl9TzNfOfGsuzc5UtlKVozDezPBz5ObM+t8FCINHmHMeaOM6X9mJnDScb7WM+2GpuojHwgNeG9mBpJa16JCKxkAAABQtlytZEIwlBLhXKG9e/eaESOCC6kaUEDU1NRkK5k8Da2eP38+s4cSKunBSt0HQyG1lSkk2rfDmLaHC9vqXi1j511izFkXGjPg3ExwpBBIt2MHM9vm6/PK0MuN+cK/dm0zKwfBEAAAAFA2gqGUq9bA6WLkCodELWe1qGZCeQiGUiwMiRTyFEtBUJ+3GfP7x4z565uZ+9TWpla2KBAMAQAAAGUjGEq5OAZDkqu1TK1uJ7KeiIg/gqE6oaofDaR+bo8xx57PrA+3tX8z/9H9hiL0PztTZaRWtLOGGTPgvMxxMRRafe/v3EE7giEAAACgJARDKRfXYMhTQDRw4ED70VNrmWYPNTc3u3sQZwRDdU7BkAIiBUUKjBQcae3bx4qhdjTNINL8or7vyoRFvlUtu/3sH8d1/TMIhgAAAICSEAylXNyDIZk3b55ZsWKFO8qgeig5CIaQl3Y4Uwuabs/uztzeeM39YoS0A9qnGWIPAAAAlIJgKOWKDYY090ctXtpSvtbWrl1L1VACVDNY0Zb4P7v9m+aVA527n50x9HzzN5OvNR+Z//fm9MGdX0uhCIaqSMOsN8zJtIFFTZVGtuLobNee5gZg+yokAAAAADkRDKVcGAwdOnTIDB482K4VAC1dutRMnz69S/gybNiwWIRCQtVQMlQrWNm+8A6zq+Vb7qg7bZc/elZz0QERwVCVKRz60WJj9mx0d1RJGBD5rfc9ta2pfc3LPgYAAABSjGAo5fr169cxv0dBi2b3aOevIUOGmMOHD3cLX1paWszChRHtGBQBnobxV+lg5Q9tvzUPzPiyeX7XL909PVNAdNncmeZji75q170hGEoQtab5j2++kZlndPJPxhzem7m/UsIgyc8/0rG/Xx8BAACAhCIYSrlc83s03DmsCorbsOckzEVCp0oGK7tXrzNb591q3jz5urvHmAsbrjBNG9d1hD6/3bTZtpcd2fOkPfbOHPF+c+3ab5lzx1zq7smNYCgl/BDs4y8a89L+ztlG/lZpHYERwREAAACShWCoDmzatMncfvvtZs+ePe6e7uLUtkUwlCyVCFYUBKlKaO+Gru1GYxZ8OW8lUL6AaPySW+3/lw/BUJ3I3imt2/H+TKjkRR0o+cDovFHtH/tnPvq5SOikFsNtK6sT5sWBn4XlQ8RTTs08N2To5ZmPKF34fRx+zytEVphciKhfC+LEP//8bLYu4Xb7RwBIiEcfe8Xc/YMjpuHKM03DVWe6e1EMgqE6oXYyDZVubW1193QXl39ygqFkiTpYUevYxqZm+9ErtPpHNKB667zbzMljr7h7jJmxe6s5Z9TF7qgrgiEUxF8c5ruVw88/SnNopHa/PZuMaXu4/Mer3vgL9UJE8XwEvFNOa389uiSz9kGl/6j79esAEAOfueEJ8/LRP5tTT32befC+0e5eFINgqM6EM4RmzZplgyI/g2j//v22rawU+YZZl4JgKFmiDFYeW7HG/Oz2f+wS6nyoeaq5etU3C5oX5L16+AXzw6bpHXOJ1H523fo15rQBZ9jjEMEQIuGrETo+ugqk7MqkYoVDs8N1WFki4a/FgcIJzYLyN8IKIJ18cKnAyAfatNACqLIJjZ2zSLdt7v2NZHRHMFTnJk6caLZt22bX5WwPn2+YdSkIhpIlimDl6S1bbZVPWCXUd8AZ5upV/2BGTm1y9xTnhT1PmrWjr3BHxu5U9snl3+j2+QiGUBU+ILIDs49nPvogKWrhu/zFiEu1ycWfMmby/6qPagT/mPsZWeKHrBfT7oTcwsBUQaoCVfFVL/XeMuWff342mx/mr90jn3vc/aYS+dch366mtf4taFEDUAEEQ+UjGKpzixcvtvOHRKGQwqFSRBnmEAwlSznBioIgBUIKhkJqGbtu/V3mjKHnu3tK8+Dsr9oB1qELJnzMBk5qTxOCIdRcNUOjWtEF4Ygrjbn4WmbnAEnig0q9Lmk3SB9YllMNmdRKSACxRTBUPoKhOqdqIVUNidrI1E5WCoKh+lVKsKJWr18s/bb5zxVr3D0ZqhL6xJJbzehZ09095dMA65/Ou83+mSE/lJpgCLEWXnxlv4ufPTDbX8DFgaoFFAAN/S/tt4+UVsEEIP78a5Ref3ygXYlqt7AS0gdGumldapUkgNQgGCofwVCd03yhfv36uaPSgxiCofpVbLCSa46Q/Je5M83HFv1/OecAlev19j9r19Jvm10t33L3ZOjPDMMpgiEAACLgg2zfrqa1giO1qlWSbVk7OzPnSOE0846AunD1pN3mjTf+atcbWj9kBg9yrcMoGMEQIgliCIbqV6HBkMIZbUH/m02b3T0ZGgx9xfJvdLR2VZJa1/Q1+KHU2QiGAACosGpXQmrGkWYbERYBqTV3/m/Mnif+ZNe3zLnAXPeps+0ahSMYgq0Y8juTLVmyxCxYsMCui0EwVL8KCYYUxNw/7SbzyoFn3T2ZLegVCCkYqqY3T75u/m/715IdUAnBEAAAMeWrj6IY1q6wSHPPxv0dc4yAFLj73w6bu9a2vz60G/fRAeaO2y6yaxSOYAhm3rx5ZsWKFXZd6q5iSQyGtMX+7NmzzYEDB9w9PdMMJt3GjBljzjjjDPtx8ODBZsSIEe531KfegiG1jm1feIcNZLxStqCP2q9aN9jB12FLG8EQAAAJZmcc7W2/PZUZmK1qJFUlFUqB0fCPMygfSJh9T79mbvxSplX11FPfZn70g0vsRxSOYAiRzBmKIsw5duyYDaj8LmlSyafhsGHDCg6FeqNwqKGhwcyfP9+GRfWkp2Box+Jvmp/d/k13ZGwQpEBIwVAcaCD16mGXdoRWpQZD2lVNw7Qvnj4lNn83AADQrtywyKMlDYi1qc1PmsNHMt/bK5b+jRn14XfZNQpDMASr3GCn3P9/06ZNZsaMGTYcClXyadjS0mIWLlzojqKhiqtZs2bVVUCULxjKDoUGjbrY/Nf1a6oyS6gYGkitiibthKbQqhQrh1xsQyYFX1850dkuBwAAYqjtYWO2/XMmMIqCQiNttW93Yrw8s1sagKpqWfZ7s+WhzPyy65sGmTk3nWfXKEz3YChzHU4wVGfKnTNUbjA0ZMgQc/jwYXeUoYBl1apV7qj22tra7Ne4a9cu88orr9iPOtb92eopIAqDoXw0R6hp47qato5VUiFzlgAAQMwpKNqzKRMcaZ5RuWhNA6pmx85j5tav/86uLzi/r/nuXX9r1yjMNRM/aY4cPOyCoc7reYKhOpM9Z0iBTHNzsz0uRBgsFfvUWb16tZ31461du7aoPzsOVPGkFrg9e/a4ezLqISD6p37nd5kflC3toZAQDAEAkHK2Ha3N3drXpe6YRnURUBHHX/2L+cwNT3RsW69gSAERCpMJhmglq3sKdQYOHNgR7ngatrxo0aJegxrfllVKlU9YLTR16lSzfv16u06iegyIfCtWLiOnNplr134r1aGQEAwBAFDHfFB04D8zH4vZIS0fBUjaNe0yZhcChbr1G78zO36eGU1CO1lxCIbQId/MHYUapexU1pvW1lYbooQDoPXn6M9LunquIKpHBEMAAKCbKFrTRjVlAiIqi4Behe1k7xn4DrOh9WJ2JytQvmCIR68Oaa6Q5gtlUxWRdvBSkBMFDZhW65qGTYehkKqF0hAKyeTJk83u3bvNxo0bzahRo9y9mcdSLXt6PPUYZM9VQvJoyDYAAEA32sWsYaExc39qzOK2zG3Wxsx9I640Be1qtqf996+81pjvTMmsS9lRDagT48YOsIGQvHz0zzYoQnmoGEKXuUOVplBIs4XSEgxlo4IonXavXmcenP1Vd5Rpnbtu/Rp3BAAAUAKFP/d+JVNplE1hkq8i6n+WuxOA1/q9503r9w/Ztbas19b16B2tZMhL1S0aCh1VpVAuDQ0NtqomrYFQNgKi9ND29KuHXdoxeLsehmwDAIAqeu5xYx7bYMyTD3SvFDql/XxD84cIiFCmRx97xdz9gyOm4cozTcNVZ7p7k0uVQhpC7TGEujC0kiEvhRWq4snVXlYuDbXW5968eXPdhEJCi1l6/GLptztCoUGjLiYUAgAA0TrvkvaTx/bz8P/vP4z59OKuc4YUFO1aZ8yKTxrz8DJazFCylmW/N3ue+JNZtvIZd0+yqZVs3EcHuCNj7t/8kluhFFQMAVVABVFyrRxysa0aks9sXGfeP7nRrgEAACpG7WXb/jkz2DqkEOn6ZZndzIAiXD1pd8cW7z+8+8MdM3qSjCHUxaNiCKghKoiSy4dCQigEAACqQkOrNcB66srMcGtPbWerm3LPJQJ6oDk8nt/qPekYQh0dgiGgigiIAAAAUDAfEE2Y4+5od/KPxmxoP9620t0B9O6KTwx0K2O2/vtRt0q+667tnL11/wO0k5WKYAioAQIiAAAAFEzBUPN3uw6gVjBEOIQCaR6Pb7PSrKHjr/7FrpPuuk+d7Vbp+ntVG8EQUEMERAAAACjI0MuNmbUp89FTMPSjxcYcp1ICPet/+tvNB0ec7o4yIUoaqJUs/Hv9eu9xt0IxCIaAGCgkIJo9e7Zpa2tzvwIAAIC6o4qhL/yrMcM/7u5op63u/3GcMZsWdh9WDQRGfai/W2lw8ytulXwfHNn599r3dNehyigMwRAQIz0FRKtXrzYjR460N62PHWO4GgAAQN055bTMUGrNHwrt2ZgZTP29v2u/Ov4PdyfQKRxAnZaKIRk+rJ9bGfPrp151KxSD7eqBGMu3zb1oq/upU6eamTNnmjFjxrh7EbWlfc5xK2Pmv9W5QxkAAEDNaZeyHf+ae5cy7WY25ovGjGpyd6Deabv6T3/28Y5t6ze0fsgMHnSqXSfZvqdfMzd+KVMtN3jQaXbb+nJseegPpvX7h8zhI6+7ezrp86t1TdVXCtouOL+v+5VkyLddPcEQkAC7du0ya9asMRs2bLDVQ9lGjBhhAyIFRYMHD3b3olzPbPuZWT8xczJ1xtDzzaz9v7RrAACAWDl2MBMQqWrozayLWbWfjfu7TEDU993uTtSr/3nbPvPoY5k2sptmvNfc8Ll0XDtcPWl3R+D1o3tH2ZlKpWj93vM2FCqUZhw1f35IlyHYcZYvGKKVDEgAVQStXbvWHDp0yKxatapbhZBmD2lI9ZAhQ8y0adPMli1b3K+gHE+uu8etjBk5lXfbAABATA14rzGfXmzM3J9mdjALdy/TYOotS4xZcWVmWLW2u0fdCret37EzPaMphl8YtJOVOIC62FBIXj76Z7PyrufcUfL08TcqhoBkUhh055132iqiXPOGhg4daquImpubqSIqwe7V68yDs7/qjoz5bzs3m3PHXOqOAAAAYkxVQ6oeUhWRqolCqhoad6MxY6Zn5hWhrmg7909f3zmmYtvmdJzfKpy5d+MRuy62EkqPiQIh///L5ZedYe647cKOLf49ta1pPtOeXx03jz72x44qpRVL/6bLDKe4CiuGFAh5VAwBCaX2MVUPqYpI1UTZVUQHDhwwCxcutFVEjY2NNkBC4X6x9FtuZcyFDVcQCgEAgORQ4HPZ1EwFkQZVn3eJ+4V2qhh6eFn7lewnjdm1rnvrGVKt1BaruCt1ALVCnqnNvyooFJLhF77TXD95UPuvX2TGjR3g7jWmZdnvO0KiJCIYAhJOQ6hVFbRz506zd+9eM3fu3G4VQmotU4uZQiKFRQqN0LOLp7efTLX7m8mNpmlj+0kTAABAEmn3shvvMab5u5mB1J5vMVt5baa6CEiw4Rd1BkP7flf4lvVfb9lvjh//izvqORTKNmfmeaZ//0zQpkHVSWkp8+1jIVrJgJRShdC6devyzhtqaGgw06dPt1vkK1xCd68efsGcPrhzVzIAAIDE0w5mCoSyW8zOutCYK2/pvg0+Uicc1PzDuz9sByinQfj3+u5df9vrjmGqFpo7/zd2rYBnzk3nm4arzrTHhdIOZi3LMm+6K0x68L7Rdh1XDQyfBuqLdijbvHmz2b9/v1mwYEGPVUSzZ8+2M4vQFaEQAABIHQU/ajHTsOpwSPVLTxuzYY4xq5uMOfCouxNpFM7C2fHz9Aygvvyyzl337t/8klvlt/Xfj7qVMddde3bRoZCE/w+tZABiS0OolyxZYmcRrV+/3gZGIQ2uXr16tRk5cqQZO3asaW1tzbklPgAAAFLEzyBSlVC4jf3hvca0fjFze+5xdyfSJNyZLAxHkq7hys6QZuu2l3sNasJQLJwXVI8IhoA6olBI4ZBCIoVFCo1Cu3btMjNmzLBVRNr+nllEAAAAKaYh1eNuMmbuw5mP4S5lqhr6zpRMFZHCIqTGuI92hiBqp0oLhTu+LU7byPe0Hb/+3vo9MnjQaeaDI06363pFMATUIbWVqb1MbWZqN8tVRbRixQozbNgwGxTt2dO5pSUAAABSRhVDqhxSBZEqiUKaSaT2sk0Lu88lQiKldWcyue7azvbI+x/I304WVkpdMb6zgqo+dB8zTTAE1DkNofZVRNr+Xtvgh9RaNnr0aLvl/bZt29y9AAAASB3NHNLsIQVE2UOotXOZtrjX4GrtaAbE0HWfOtutMlVBzzybe0QGbWQKhzoDIoIhAJaqiGbNmmW3vH/kkUdsYBTSsOqJEyfakEg7ngEAACClBrzXmKkrjZm10Zihl7s7nV3rMlvc77jLmDdfd3cC8aBWsrBVLtcQ6sNH3uhoI9NuZPXdRpYJhwiGAHQzYcIE22K2e/du09zc7O7NUFuZdjNTm5mGVjOoGgAAIKUGjzSm+buZm9beyT8a8/CyTAXRkz92dwLx0NsQ6nCu0gdH9HerevYWwRCA/EaNGmXWrl1rZxHNnTvX9O3b1/2KsYOptc29AqLFixfbuUQAAABIIVUNqXro+n/KVBN5aim79ytscY+CqVJny0N/MC3Lfm+mNj9pJjT+0n7UfVHpbQj1vv0n3MqYD37gnW5V3/q81c6tAaBHfij1mjVrzOHDh929GQqN1Ip28803d9vtDAAAACmh9rHHNhiz7Z8zlUMhzSXSEOuzLnR3IK4UyHjbNl/qVtFQGKPZPsdf/YvZ97vXzPHX/mo/+vtzOfXUt5kH7xvtjsrX+r3nTev3D9n1qA+/y6xY+jd2LTfO2Wu/HvmHbww3l192hl2XqpKPZdQaJn7SHDn4vDl5ojMcE4IhAEVT+5iGUi9dujTnlvZqP1NApIojAAAApJBCIYVDComyZw2NmW7MuL/LDLNGxajKRuHH4SPJn/WkodG3zLnAHZVPIdRnbnjCHXUGNmoru3rSbruWH907quxd2tIQDNFKBqBovjpILWba0Sw7AGInMwAAgJTTFvcNC42Z84AxF3/K3ekwoLri7v/xi6Zl2YHEhUIa9qwKnZtmvNf8y/IRNkjRLcpQSHwrWbZft73qVsYMv+idqd66vxhUDAGIhAIgVRBp97JsCo7mz59vpk6d6u4BAABAqjz3uDEP/1P3WUOqGlKAlB0eoSyayxPXUEihzAXn9818PO80GwYNv/CdHR+rJVclz93/dtjctfagXTdcdZZZcMv77LoctJIBQBbtWnbnnXfaqqFsmj2kgEitZuEgawAAAKRE28OZHcteetrd4WhXMwVE2dvfoyR+ho62Zv/a/GF2Rk8x1GqlcMnv2DVn5nnm+smD7Dot1DLm/34/vPvDNqi69Ru/Mzt+nhlGveCWoabhqs4dzEpFKxkAZGEnMwAAgDqmAdRqL1MIFM4YOrzXmNYvGrNhTvfQCEVr/sK5Nuy447aLig6FRCHJTTPOdUfG3LX2eRsWpYmGTnsKg/Y9/Zp59LHOgenDL+rnViAYAlARqg5avny5OXTokFm0aJEZPHiw+5X284LDh83tt99uhgwZYoOitrY29ysAAABIBQ2gVkA07iZjTjnN3dlOFUWaP7RpoTHHMi09KE2+OTqFuu7as+2cHVFlzco1z9l1WlzxiYFuZcyWhzNb5PsKog+OOL2qbW1xRzAEoKIGDBhgq4NUQbRq1aouW9lrd7PVq1ebkSNHmokTJ5oNGza4XwEAAEDiaUC1tq+f+1NjRjW5O509G41Z8clMBZGqiVB1qjSac9N57siYrdtftlvMp4Xa7DwNnfZb1OvvrTYydCIYAlAVve1kpuHV06ZNs1VECxcutFVFAAAASAG1lE1eYsysjd1nDKmCaHVTps1s33+4O1EtardS9Yz3zLMn3Sr58u041vz5IXY4NjoRDAGoOu1Otnv3brNz585uO5UpEGppabEBkYKiXLucAQAAIIE0gLr5u8bceE9mFlFIu5l97+8yIZGqiVA1vp1MfFVNWg0edJq54XOdIy6QQTAEoGbGjBljq4c0h2jJkiVd5hCJWssaGxttq5lazhhWDQAAkALnXWLM1JWZGUTZLWZqK9P8IbWZ7VpnzJvx3JI9TbSlvPfMwXQ93tmDua8Y3zl3CJ0IhgDUnAKhBQsW2IBIQdGECRPcr2RoOLWGVKuKaMaMGWUNq356y1azfmKT+VUr84wAAABq6qwLMy1m/9+OzLBqzSTyNJh6S/uv/ePHjdm20piTnbtJIVoXnNfZVpWmVjK57lNnu1XGuLGdc4fQiWAIQKyoteyRRx4xe/futTOJNLza07Dq1tZWW0E0duxYuy7WAzO+bJ7Z9jPz4OyvunsAAABQU5pBpO3t5z6cGVYdbnOvQEjBkAKih5cREFVAmlvJbmru3JJfwnlKUdAW+GnQ5612bg0AsaP2MbWU3XnnnTkrhVRt1NzcbGbOnNllx7N8lvY5x62Mmf/WC24FAACA2FD7mOYM7fjX7lva+xDp4k+5OxCFT392jzl+PLMj2Y/uHZV3cHMSXT1pd8c29ds2X2o/FksB0JaHXzY7fn7MHD6Sv92u1M9fLQ0TP2mOHHzenDxxwt2TQTAEIDG0c9maNWvybms/efJkGxA1NDS4e7ojGAIAAEiQJ39szI7vdN/SXrubfXpxph0NZZs7/zdmzxN/sus7vnZRqlqu7v63w+autQdtW9ktcy6w92156A+m9fuHegx5inX5ZWeYf/jGcHcUTwRDAFJDO5epgkitZLm2tVfl0M0332wricJWNCEYAgAASCAFRJo5dPwld4cz7qb2241d5xOhaK3fe94GJRIGKGnw6GOvmGUrn400BPLeM/AdZtxHB5grPjHQbv0fdwRDAFLJt5nt2rXL3dOpb9++dmbRlClTOqqICIYAAAASSvOFVD204y53h0N7WdlULaSqIdGW7htaL7brNJja/GTZoVDSAqB8CIYApJrmDy1dutQGRRpSnU1VRAqJBrT8b3cPwRAAAEAivfS0MT9abMyBR90dDu1lJdMMHs3i8eI+K6cYvpUs2xXj32MW3PK+blvapxnBEIC64IdVKyQ6cOCAu7dTi+ncsnLm0d90azUDAABAQuRrL7tsqjHj/s6YAe91d6AQExp/6VbpCobQKV8wxHb1AFJFQY+2ud+/f7/d9j7XnCFvyJAhZtq0aWbTpk3uHgAAACSGWsfmPJCZMxR6bIMxKz5pzPf+zpi2h92d6E09Vc6gKyqGAKSeWstURXTPPfeYCVs63wlZYF50q8y292o1065mI0aMcPcCAAAgEfK1l4kqhy6bkqkkYkh1Xrl270K60EoGAO3C4dNhMBRSMKRdzbT9vQIjAAAAJMRzjxuz67uZNrNsp5zW2WamgdVAnSEYAoB2YTB0ze4HzZo1a2wrWa5t70VVRJMmTbIfAQAAkBDHDhrz2D2ZtjLtZhZSQDRmujETvpRZA3WCYAgA2uXbrl6tZvfdd5/9mIvmFPlWs1GjRrl7AQAAEGtvvm7Mno2ZKiK1m4W0e9nkJcacd4m7A0g3giEAaJcvGPL8rmaqJNqzZ4+7tyu1mk2fPt0OtqbVDAAAICE0iHrbPxtzeK+7w1H1EO1lqAMEQwDQrrdgKNTW1mbWrVtnWltb87aaNTQ0mClTpthqor59+7p7AQAAEFuqINI292GLmVrKPr3YmFFN7g4gfQiGAKBdMcFQaMuWLXZXM1UTaZezbL7VbP78+Wbo0KHuXgAAAMTS8ZeM2bTQmH3/4e5wZm00ZvBIdwCkS8PEK3IEQ33M29wKKFhLS4sZNmyY6dOnT9E3/X+NjY1m8eLF9gJ7165d7rMC8abKoLVr15qjR4/ajxMmTHC/kqEWtNWrV9vneFNTk9m2bZv7FQAAAMSO2sa+8K/GNH+3axCkVjOgrrxFxRAKp7aaGTNmVCTM0cwWzWoZP368rbbQLfvCG4hCqRVDuRw4cKBjHpHW2TSkWtveaxYRAAAAYkozh1YHLWQKi4Ze7g6A9MhdMUQrGQqki1+FQrlaaCpJAdGYMWNsYKSgSAESUI4og6GQKoTuvPNOu/V9NoWeajFTQKSWMwAAAMSM2so0e0gGvNeYOQ+wlT1Sh2AIJdPQXbXH+FBIA3YXLVpkFixYYI+LoaojVVao6uipp57qWJdLAdLkyZPtxTe7RKEnlQqGPD2nly5dagdWZwepCoUUDqmKiDlEAAAAMaKZQ6snZz7KZVMzw6iBFCEYQsnmzZtnVqxYYdeq2Nm4cWPklTthYPT444/bdb6twnui0EoBERVGyKfSwZDnZw6piijXjmYaVK2ASBVxAAAAiIEnf2zMvV9xB+1oKUPKEAyhJNnVQgqFFLxUi8Ihtehs377dftTFdjF8C8/cuXPdPah31QqGQqoeUkCUK+xUMKSASEERAAAAamzDHGPaHs6saSlDyhAMoSRhtZAG6e7evduu40ZzXW6//fa8VUZqfdNOaIiPp7dsNQ/O/qp55cCz7p7czhh6vvnI/C+b0bOmu3vKU4tgyFO4qUHVmtmVTa1lflA1c4gAAABqRK1kK6815uQfM8e0lCFFCIZQkiFDhnS0wVS7WqgUPVUYEQ7Fy8ohF5tXDxcezHxs0VfNuMVfdUelq2Uw5KlVUhVEqiTKroJTKKTqoSlTprAzHwAAQC1oCLWGUXuqGjrrQncAJFe+YOht7iPQjQKhcDZKXEKhLVu2mIkTJ9qL6myqalLbmEKsQ4cOmYaGBvcrxlYUzZ49O+e8F1RfMaGQ/Oz2b5qt825zR8mm6qDly5eb/fv324/hIGo/m0jPcQWzes4q5AQAAECVjGoyZvjH3UG7x+5xCyCdqBhCXnFtI/NVTBo0fSIr6cym2UhNTU02TPLK2VUN0SmkcufNk6+bjU3TbduZd8GEj5nPbGw1pw04w91TnDhUDOWi9jJVEeXbpU/zshTOUkkEAABQBZozpHlD0v8sY+b+lFlDSDxayVC0uLaR9enTx62MKeTpq3Bo2rRpdg6RV0iohMoqNKBROPR/p91kfrNps7vHmDNHvN80bWy1H4sV12DI0w59Conuueceu86FkAgAAKAK/nFc5/b11/+TMRd/KrMGEopWMhQtjm1kpVAIpGBLN61FYRHzhoqnyp31E5vMr1q7D08uxo7F33Sr3p3S9zTTtHGdnTHk/aHtt+Z7Y681vw3CorQYMWKEfW7u3bvX3lTdpvtC+t6k3QwAAKDCNHjao50MKUYwhJx00Zk2CrdmzZrljjIzh7QVf65ZRcjtgRlfNs9s+5ndTaxUCoU0L8gbObXJrXqmwdOf2bjO9HUtZCePvWJ+2DTdbF94h60qSqNSQqIZM2bY6jiFnwAAAChDGAwdeNSYx8p7cxSIK1rJkFPYRqYdktavX2/XcVBsK1ko38wh2soKU24b1u7V67qEShc2XGGrgVQVVChVC21sarYfPbWUXbv2W+bcMZe6e/KLeytZIQppN9PzWsPXJ02aZD+q/QwAAABF0u5k2qVMNGOo+bvGnHdJ5hhIGGYMoShh+KLQxLdgxUE5wZAoHFLrTVgpxLdBYcoJVbQL2ephl3ZU95QSCnmvH3vFVi+Fc4dk/JJbzZgFX3ZHuaUhGAoVEhLJmDFj7EwihUTZVUcAAADI4832c9fWLxrz3OOZYw2inrUp8xFIGIIhFKXc8KWSovra4vx3jKtyQhVtNf+fK9bY9aBRF5sv7NxcUigU0qwjfV61lXmaRaS2s3zSFgyFFAypjUwh0Z49e9y93SkYUkCkoEiBEQAAAHpw7KAx35liOgZRq2JIlUPsUoaEYfg0eqX2Ks0pYeYOoqZqod2rO59XCm/KDYXkQ81TzY17f2a3sPc0v6iY4dZposBnwYIFZvfu3ebQoUNm1apVOQfHK0BasWKFGTt2bMdcIlUdMZcIAAAghwHvNeb6ZZ1BkKqHtizJrIEUoGIIHfxcIbWNhReIVAzBK7XaJrtaqHn3VruOitrTNjZNt7umefkqh9JcMZSPvp9VSfSTn/zEfjx27Jj7le5USXTNNdfYQGno0KHuXgAAAJhd67oGQgseNabvu90BEH9UDKFH2tXID5umagD5hFU+L+x50q16lqtaKGr6ujSvSHOLvHquHMqmsFdD5NeuXWuOHj1qHnnkETN37tycwY8qB+fNm2d37Bs5cqRdh8PaAQAA6taY6V0HT/u5Q0DCEQzB0tbtni4ggVzeP/lat8oEL4X4xdJvdwycVrXQ+yc32nXUCgmHtNW+d8bQ892q/kyYMMEsX77c7N+/326Dv2TJkpyzhnzLWWNjoxk4cKCZNm2abTXtqeIIAAAg1c4b5RbtDu91CyDZCIZg+WohUVVBubuQMa8oncbM/3u3Mt12BMtFW8pXuloolC8c8tVNT667x36UkVOb3Kq++blEO3futNVE+v5XODxgwAD3OzIUBmkOkeYRKSTSfCKFRj3thAYAAJA6g4PdXZ97wi2AZGPGEKzseTstLS1m4cKFZtasWXaAbbHCeUWqShg8eLD7lfIxY6i2Cp3Royqh741tNEdcKHPumEvNf9vZe5gUBf3ZP2ic2qVCKJu+Fn1NyE8Br59LdODAAXdvd2pJ00wizSbSjCIAAIDUUpXQavcGo4ZSz/1pZg0kANvVo0dRhyT9+vXrmFWkcEjhUnNzsz0uF8FQbRUaDIUDp1XJc+Pen1e1fUtVQmtHd1YOhVRR9NnNG9wRCqHKIAVF2gp/165d7t7uVGmkVrXx48fbj6NGBeXWAAAAaXDHJca8mRmVYGZtNGbwyMwaiLlcwZCuimklQ0Wo0shTQDR79uweKw6QLr/dtLkjFJKrV32z6jN9zhl1sRk9a7o76qQWMrWboThqOdPA6kJazlRhpKHVo0ePtm1nTU1Ntu1sz5497ncBAAAk2PCPu0W7bf/sFkAyqUSCiiHYHckU3HhRPSX8xaEPhHQhGUXVEBVDtdVbxZB2IVOljj6Kgpjr1neGREifQlvOREGS2s5mzpyZc+A1AABA7IXtZELVEBKC7eqRV6V2JNPF3/TpnRUb27dvdyuk2f3TZnaEQqoSumbVP9g10ktzhcJdztQ6qteSXLPFVFGkofQaXq0t8TXPjGpCAACQKAqBRlzpDtpRNYSEo2IIXSpnTpw4UfaOZKFt27bZ3clEA2p14VguKoZqq6eKoV0t3zLbF97hjoyZ9shGc8GEj7kj1CPNJtLrgCqK9DHfVvcKl6ZMmWIDpShfgwAAACqCqiEkEMOnkVclAxLNF9Igai+Kz08wVFv5giENe/4/YxvtjmCirenHLa7s9vRx8fSWrebB2V81rxx41t2TqZbSY/Ch5uiq8NJAg6vXrVtnt77PFRL5VrNJkybZjwAAALG1YY4xbQ9n1qogmroyswZiiuHTqAne+U8f7TDmKQwShUEPzPhyRyikbeDHLPiyXdeD7FBIdKz70ZXmCqnV7NChQ2b9+vXdtrf3rWYaWK3B1TNmzLCzi+qFr7LU3DetAQBAjE34klu0U0CkKiIggQiGABTl/ZOvdStjfnb7Nzs+HnEhkYKja9d+q0uAlHajZnbf/Ux8UIbuFBqrbWzz5s02JFqyZInd+SxUjyGRZr4pENKmAAqIhgwZQkgEAEBcMWsIiZPplFGVkL8JrWSoeEtV1J8/3+fTzkh+d7VFixb1ugMarWSlUZWQdh3LZ/ySW+uqWiiX3nZuQ37a0l6tZj3tcJbmdjMN4164cKE76krDvBWgRbG7IwAAiEj2rKG5P20/WXmvOwDipWHiRPOCbSU76e7JXAcTDCE1wZDeWT98+LBdqxpBg7R7QjBUun/qd37OapgLG64wn928wR3VL4KhaBQTEl1zzTX2YxraV3v7e+/evduMGjXKHQEAgJpr/aIxBx7NrD+92JjLmDGJeGqcOJHt6pFeixcv7giFhHfUK0tDlbONnNpkmjauc0dA+RR++G3wFYbMnTvX7m4Y8u1m06ZNs4PuGxsbzYoVKxK9BX5vf29VFGmwPwAAiInh49yi3b4dbgEkBxVDSHTFUC6aW6Khtr2hYgiVQsVQZRVSSSSaWaTh1qomyh5ynTT6O48ePdodZf5ua9eutcO8AQBAjYXtZKecZsyCRzMfgZjJVzFEMIRUBUO6+Nu4cWNB7SQEQ6gUgqHqaWtrswHRfffdZ7fCz0ctZ6rEUZDygQ98wFbgTJgwwf1qMmiGmoZShxYsWGBnqrEDJAAANbbik8YcO5hZN3/XmKGXZ9ZAjBAMIa+kBEO6ANSuRPku/lQppHfQC71AIhhCpRAM1YbayhQS/eQnP7HD6HXcGwVEmk00f/58O9w57tQ2N2/evC5/N6qHAACIgU0LjdmzMbMeM92YhtybSQC1xIwh5BUGKWpXiBt9TboQUhtFdiikAdMKdXRT+xjvmgP1S1VBmi+m14KjR4/arfBzzSUKqRVNM4mGDRtmX2fCWWVxpL/f3r17u7TGKTQfO3ZsIr5+AABSa8Qn3aLdvv9wCyAZqBiCHdq6YUNmJym9c65WrCj1Vpnjt5kvZVhsOU9fKoZQKVQMxY9eX3Tbtm2b+f3vf2/DlFzVhwqXFb5MmTIl9q1muaqH9PXPmjUrMRVQAACkxsk/GvOPHzfmTbdz7+QlxowKtrEHYoBWMuSVPdQ06qdEbwGM3qkvNBRSq0R4MVfO10owhEohGEoOtZ7dfvvtBVVLqvJIgYuCl7hQhZBabBWwhxQQafaQZhABAIAqufcrxjz548xaw6dnbTTmrAszx0AM0EqGvDSQtZZmzpzpVrnpXW9diD3yyCNm586d7l4AKJ+qJLUlvCole3stVICt6kaF2dlDoGtFr49qmdPrY1jhpO3sta29vl7aywAAqJJPLzJmwHsza1UObZjTWUEExBgVQ7D69etnLyRkyZIlkb7LHH7uQ4cOld3eEFWlDxVDqBQqhpJLlUOFbIUfitMA61wVULSXAQBQRc89bkzrFzsDIbWTqa0MiAEqhtCjsDVCFxVRCt/F1kULiqMWkYnt38CaJwKgslQ1tHz5crN//34bGPubBt1r9lAuCpD8AOumpiazePFiO8uokF3RoqaASpWV+ugpmPdfX0tLi7sXAABUxHmXGHPlLe6gnXYq87uVIR00T2rbSmNWfDJzS8G/LxVDsHThMHDgwI7KHrVWRNVipkBDMzBEIZFaHsoRRaWPWiuGDBnijuJdMaSvU1+v3vXXxSnij4qh9NJrpNqzCg1qa1lNlG9+kmYPKbwCAAAVpDaytocza+YNpcdjG4x5eFkmHPL073vr4+4g3qgYQo8UOoTvMEdZNaTPq88vtXoXPdvSpUvdqvYzlnrjHy9dkBYyIBdA5ei1bO3atV2qiXqaT1TLaiK99uaan6TXdyqHAACosMn/i3lDaaMqoR8t7hoKSQp2n6NiCB0UOoS7k0X5rrJaoXQxJLpICUOoYoUVQ7pAy9fe0RNfhSPlfj2VNm3aNLNhwwa71sXdpEmTbOWV1gMGDLD3I16oGKpPeg3V7fHHH7cf/WteIVRZ1NDQULFt8hUsK5jyu5dRgQig2vT6o4rLQue3VYNee0eMGGE+8pGP2I861g64QGSYN5QeCoV08xT6TZiTuFCI7epRELV8hS0SUYVD+hy+CklBjgKdUoXDrEu5uNHFmoIq0QmAZonEWXZgF6r0xSRKQzAEr5jt8EP63lZgHWULml439frp8eMfQDWpcjJOoVBPdH7pzzU9vS7rvLiUNyRR53atM2ZLEAZ94V+NGf5xd4DYs/OE/jnz7+jp32/qykwLWcLQSoaCrFq1ygYNXikXNLmEoUUx76Lnoh/KXik/nO+55x63av9+njrVreJLlUHaKS4XnWBp22wFXaqC0jtx5T6+AKLj27l0UyA+d+7cgkLcsAUtqrYv39ILANWm9tkk7YqYHQqJXpd1ngUUbcx0Y0Zc6Q7abVrYvRUJ8dMxYLr93y4loVBPqBhCN/ph2NjY2BEw6MJG7VbliMs71Wof04WW/4Gv3XuSUjKsgE63QtpUdPKlgO+aa66xH2k5q55ntv3MrJ+YKSk9Y+j5Ztb+X9o10BN9T/e0TX5U71RHMbwfAAqh1zKdq2zfvt2+tmXPViv2da23Ckyd+yh4Hz9+vP2o1rDetLW12a9z165d5qmnnupY56NdfPUmKlC04y8Zs3py5qPQUhZfCoR2fTdzyw7wUhAK0UqGouiHbti+pJ3Eym1VisMFid7pUYWNqBJH7+InWW8Xk57+rgqINJ+I3vnKenD2V83u1Zl3FcYs+LIZv+RWuwaKkesCqNy5QGFLr/DjH0DUdC6yZs0aOxsx33lJuUF3bwGRp6BI4ZCCIv2ZuukciOpJ1MyTPzbm3q+4g3a0lMVLT4FQQucJ5UIwhKKF84b0w3Tv3r1l/TCtdTCUfVEU96HTxSo0JFL1UPiOmkIjROOFPU+a/zO20bx5MjNg8L/t3GzOHXOpXQPFUmVjuDV+qe9U6116vfapNc1TG+369evdEQCUR0GQzkH8gPtcyg2Esum8x1ck6WOhuz36yiJfVZ2kFjekgIIhBUTS/yxj5jxgTN93Z45RG3USCHkEQyia2q5UNeR37yq3fLaWwZCqhMK+cJ0IbN682R2lj0qjdXKmeUo9lUQLQVE0FAZ9b2yjObLnSXusQEjBEFArukhSGHTnnXd2uWDS65+Ccd41B1AO/xqjCiF/rhjSa0x4flHpimUFRTrn8UFRrq8pF19VrY08OAdCxdFSFh91Fgh5BEMoid4B0nbpnoYgL1iwwB0VJ4pt5ksVbk9fbxdFOnFTSPSTn/zEfuztRElBkU6MdCKnEmzdOFHq3Y7F3zQ/u/2bdn1K39NM8+6t5swR77fHQLWpymjevHnd3kEnFAJQLr35pOogvemW/Rojep2ZOXNmzauyw/lBms+odSHtZwqwLrnkko43y5jTiMjRUlZbdRoIeQRDKJmCIQVEoosJbe9eStltudvMl0pBiIIhT39uPV8U6QQpfEct10ldLjpRUhn4Bz7wAXuypMCI8utOK4dcbF49nNmaXnOFNF9IftW6wQZGrxx41h5rIPXHFn3VfKg5/jviIXn0/aw2YLWUhqJu4QBQX/Ta4tvFclUi63xAry8KhPR6E2f6+nX+c9999+X8u2TT30fnPB/5yEfsRx0zrxFlo6Ws+uo8EPIIhlAyhTkDBw7sEuqopazYCwxtubxw4UK7ruauDnrX3M/W0Ds/SR84HbVSe/TFVxfpBEmBkU6WFBrVo6V9znGr3qmi6CsnMkEREBV9/yrID6sCCYQAlEOVxn5+oT8PDCX9NUbnPMVUVYcUEqkqSn9/qjBRNFrKqodAqAuCIZQlDFc8BSxxbzHSO0ET25/8/mQmbQOnK0FBkcqvdVNYpNLrnoZZ56KTJd1Uiq3QyL/Dlmb/1O/8jqHTvRk9a7q5elWm7Qwol17fNFxa4XtIbb9csAAolsIRtYn1NDtI51LTp0+3bWNp4s+B1Hqmc0jdcgViIZ3jaEQCVUQoWnZLmQIK3RANAqGcCIZQNr1bpIof/cAUnRQoaIkrvQuk4dk+1KBaqHQ6KdLJkU6YnnrqKfscKORkKZtvQVN1ka80SstF666Wb5ntC+9wR12NnNpkrl37LVspBERJ34tqHdP3o6eWDu04Vq/VewBKo9eTpUuX2paxXD/f9XNbrWLa1bCe5u7ocfGzinQO5NfZCONRkrClTAiHykcg1COCIURCwYDCFk8/ALUNfBw1NTV1zNnQD2mFQgolEB2dHPmQSO+uaa1bMVRJpJsfdq0177oBPdP3nt7NVyVneAGnwF7vXDMsFUCh1Iaq3QuzZ5OJgmYFQQqEOIfqKteQf6qHULQ3Xzdmwxxj9v2Hu6Md4VDpdtzVfvsOgVAPCIYQGb07rR+GXhxbyhRWqbXCq/YuaPVOQZECIr2zprUCxWJmF4lOrnRTO5qeXwqM4vY8A6rND3/VLIyQwu9SZr8BqF86l1MgpJ/R2RRs3HzzzTYUQn5qtdN5cfZr8ty5c838+fPZpAOFIRwq30tPG7NpoTHPPe7ucAiEuiEYQmT07nRjY6N9h0nitv1xdiikCyUFQ6gtBUM6+fSl2L7SqFg6WVVIpHY0rX2VEZBWvjpIF3G55n3o+0CvcaW8m6+5RPrc+jNC+p5K8kBZAPnp+16BUK7XEwVBCoSoeClOruohnRfrdVQtZkCvcoVDY6Ybc+UtxpzCKIKcNLj7wC/aH7Mdxjz5QOYx9M660Jhxf0cglAPBECKV3VIWl9LZ7FBIX88jjzxCv3eM6bmki1J9LLUdTTRPJTsw4p06JFm+6iBPobyGv5byjr6+x7JnE/VE31v686ZMmcLsIiCh8n3fq/VUu8UmYav5OMtXPbRkyRLCIRQmVzikgEO7lZ13ibujzumxURB04NH2b7q97s6AQrQJXzJm3E3uDmQjGELkZs+ebXetCNWydFZfi74mL26VTCiOTlz9DKNSd0fTv71CIrWgve9977MfdWP+CuJKAanCIIVCud7N12urqnjKuYDTXCJtJFDs8PhCUW0ExI+qhPTGWfh9r+9VnbPpe5VzpehoVpMea72eix7bE1kXYEBeCoc0kLrtYXeHo6BDgUe9VQ8p/FEYdOA/uwZmuSg8U4imMA15EQyhInKVzkq1Lwx0ATVs2LCOEx5CofRSC6PCot///vc2PNI61wV0T3RxrYoihUYKjLSmCgK14sMgXUzkCz/LqQ4KZQfoeo3MbnXQBaSCo6j4i09VJACorlxVQrm+7xEtnY/269fPHTHrEiXYs9GYLUu6DlGuh+qhYwcz1UCqClIQlD1EOpsei6EfMWb4uPaPl7s70ROCIVRMvtJZnXgsX768Y4vySgqrl1QRsnPnTkKhOuLnF+mmwEgfdRJcbEWELmD9TYGRKov8wGuCI0SpkDAoiuqgkL4fhgwZ0hHkKxgtdDZRIV9vbwiIgOrKVSVUzPc9yqNgyD/2OifdvHkz5xIojmboaKBydqVMWqqHNCj6+IvtF5NtmZsGSOvWE4Vjwz/eflLxXzJBUN93u19AoQiGUHGq5NAJiB9KXShdLGiL5WJb0HRxoj/rJz/5iW278FQppM8HKLTUu6UKiTTw2j9nyuFb0QiPUKxCwyC9flVilo8qPBXii56/e/fujTxAL6baiKAIqAyqhOIh1+uhXuM1c4jqIRQlV/WQKmWuX5bZdSsJfCWQbgqEeguAPP39FADppkCo/1nuF1AqgiFUjX4I6odhLajdQu/IAD3RRXl2YBSeQJeL8AhercOg0NixYzue59Uahqp3y1XRqVAqH12sauMAAOWjSihe8p0T7969u+O8AChIruohVctM/l/GjLjS3REjYRCkm44Lob+TDYFcaxjzgiJHMISq0sWQKjM0NFgfs2cQVQJzhVAuPW/1XPWVRq+//nrHhbQ+hifa5SI8Sh89P/Q80fNIO+zpta/WYZCnr8nvJKnXyP379xdVoVmu3gIivXuuGUo894HSUCUUX7neINDrv85ZgaLtWpepHgppS3bdFKTUSilBkEIfVQSp+umsYZnjwSPdL6JSCIYQW/pBGe7eUCid8OgiYvz48faj3hEDKk0n3wqOqhUe6eL9Ix/5iA2QdOPCOX403+zOO++0z4eeVDsMCmmTAO1GJnG4INH3SVNTU7fZdHqM1F6mHS4BFEaBq4LX8OcPVULxEwb0wjb2KJlasTZ8KVNFlBSah2RbwjQb6CPpHqAdcwRDAFAllQ6PdPGsk32d+Ptd1XwFEqpLLVAKtvOpZRjk6Tk3sf0kwD/v1G6rCsta09czbdo0++ZANtrLgMIobFCbqP/+pkoo3lTV5Ssn9W/FNvYomeYNbZiTqc6JI4Kg2CIYAoAYqUR45NvRFBQpMFJw5CuNEL3srd9Fj7n+DVTlpY+61ZJaI/UOtW9f0Nej2RZxkqvNQvS81Y5sXOACuennhEIhX3Gt7+/169dTJRRj+jcLt7HnMgxlO7y3/QfppvYTy4cLn+NTCQRBiUEwBAAJ48MjzarRNvy6aC41NFK1ii60w8CIi4fyDBs2rCPIiOuMM7Vr+YocfW0KheL6767nda72Moa0ArmFFYtx//5Gpz59+rgVwRCA6iMYAoCU8FVGComOHDli3y3WrZQh77rgVkh0ySWX2AsKrRUcoXf+okytYnqXPm6hUHZFk+aNxH2LZIVD2UOq9XzULA7mawGdsltEmVeTHARDAGopdzD0FsEQAKSFgiEFRAqNVGGkCwdVtITtOYVSSKT5OBru7mcaKURijlFXCun0+MTRkCFD7NcnCoQUDCWFnsfhkFbR48xgaqB7i6jC0507d9o14o9gCEAtdQ2GOl+DCIYAoA74rdN1+8UvfmE/KkAqlqpifCuab0vTBTutPvGif29VE4j+fbQ9fdwqmnqTa7C3/g4Ma0W9C1tEFdarhUyvyUgGgiEAtUQwBADoRlVFqipRhcbjjz9u17qvFFQZxYfasdRKJmovUZtJEul5qcHUfqt9SUJLHFAp2S2imm2mdtZiaI7X0qVLzfTp0/leqgGCIQC1lAmGDjJjCADQu3DwteYY6bjUOUZUGVVf2EamFhM95kmmXXz8LBWqhlDPomgR9Z+D76Xq0+Oux9/jMgxAtREMAQDKpovzcHaR2tJ0oqvQqBSqKtJNw68VXigsUmiE0oVtZArj1EZWSdWoPmhpaTELFy50RwzaRX0KZ2+pEvPQoUMltYhSsVI78+bN66iA1M87tQECQDURDAEAKiqqKiPfhqaWNJ0468b8jMKV0kbmw50pU6aYWbNmuXsLU63qg/CCikoH1CM9//V9IGofUxtZKcIKPIVLhPHVE1Z8ldIGCADlIhgCANREFFVGCgJUUaSb31o/Lq1oClUUxujv5inI0g5axYYs5dJjPWzYsI4Lj0LbyPT/+K+/2GqcalUf6O+mC1qP0xfUm3Do9PLly0veoa+xsdG+bsmqVauq/jpVKUmYnUS1FoBaIxgCAMSOryrSx+3btxddYTRhwoSOVjQFRbWYpRO+A5xNF1yLFi2q2jvyGzZsMNOmTbNrPS579+61696UU41TzQud8M/SRbHCN6odUC/C1xq1IJUajre2tpoZM2bYtV5DH3nkEbtOumpVL5aDYAhArREMAQASQZUrCopUZaTqIoVF+YKXXHz7WRgW6UKhUsK2jFz0ZyscqsZMHM0WUiufFFNRUE41TjUvdLIf62o+tkAt6TVQwYdovtDRo0ftuhQK3/W5/PeSvocWL15s10mWhNAlfA3jEgxALRAMAQASSxdFCosUemhbfYVFYetWb3zr2Qc+8AH7DrnWUW2jHw5GVoWQAhlV7fiWj5BazHQRVok2Bz0+I0eOtGsFJho6XUw1TakXVdW8GMseQi1xrg4AoqLXE7WSSRRVPuEsMknDQPe4B0NRhnsAUCqCIQBAquhdV1UV6aawyLelFUohjW4acu3XuuCKii7kbr/99m5fU6WCjLAdrJTBtEkIhrzwIlk4lUHaqaJHryeiSkAF0OXQ66e+h/ysIb0uKUjODtz1uliLeWmliPK1SO12erz1eOgxiCLQjzrcA4BSEAwBAOqCqooUxjz11FP2o4KjYugioKGhwe7QVW5QpIsvvTOvi4xQ1D969U60Bkj7FoXNmzfbv0MxkhQMSa3+XKAWwsHT69evN1OnTrXrcoQVLL1JQrtZ2KZVzgwmVVLpdTsURaAfdbgHAKUgGAIA1C2FQ6oo8m1ofg5Pb/QOut8JrdwWtEoGGWG1kL5GXRQVi2AIiCeFHQpw/GB+DZVXe2w5FH6oLbOYYf9xbzdTC68G8EshVZO5dpTMR/Pbtm7d6o5KU4lwDwCKRTAEAEBAAZHeMVdopOoiXRwUUl3k286KbUGrVJCRXS2kiyFdFBWLYAiIp3AXMb3eaH5YOcLKlZBeNxRYqDpG9JoStpvJoUOHYrsToF7TR48e7Y56f13Q62ahs+qiqBhSuKfXa9G/of4tAaDa8gVDb3MfAQCoK6qsUbuVLpJ0MbRz5057IaFqG5X55ztp14WEKo50YaWLNb2TrJBCFxl6x1rvxKs6qVqWLl3aEQrp71RKKFSqYqoNAJRmzZo1bmXMzJkz3ap4+n5VdWGuUEiuueaajlBItFbQrKpJz1e8xFGxrWP//b//d7fqXbnzhfQa7UMhPa6EQgDihoohAADy8AOt1YKmaiLdfAhTKF0AaHhrOLMiqh+9UVULSbEVOLpAVDAWhkPVPKWgYgj1IKyCUaBQ7G6DPbVLKRifNGlSx2tTvoHIYcVS3Icm53td0Gukfw33LcX5AvxyXkfzCf8d1QaodkAAqAVayQAAiIBO8EtpQQtF9aM3itlCXji4tZBBs2FbhFfNUwqCIdSDcncbzPV9KgqF9Ln0Pa/f47/3tYV69hw1hb/h71EwVO5g/koJXxf0OuZ3rCy0ilNzf1RBGrVwR7JS/h0BICq0kgEAEIF8LWh6B3jVqlX2pL+3AdW6eFGlT/ZuZcXyg1ZFF0HlCLejVqtJT8GQ2uVyXWwCiFb4GlFKG1n296kqGNeuXWt3LlQFkl6rwkHWub6v9XvCXQ5VPeRDolrQY6LXT72OhreBAwe635Gh1zEFMj2FQmqT02ufXrv1Wl6JUEjCr4E2MgBxRMUQAAAVoosnzbG4++673T1d6cKsnIGmuhjyyv1xrq81e9Bssap5ShHl3x0ZxezSFCXfbhmGk8go93leyP8f7palwCgMgTwFRiNHjuxoHfVhSjXoz1TV1Lp168p6bioEUrCvXSb1MZydVGn6vlKgLnrceK4DqBUqhgAAqDIFP6+99po76q7cgaZR0teq9oZcF4WoD7UIhUR/pv7sKKroULxwZlG+SkD9nuXLl7ujTNWghvBXkoJKPSdUCaTqn2Kfm6eccopZuXKlbbFVKKaKIB/KVDMUEiqGAMQdwRAAABWid7nDXXzUwqELFH+r1jvuhfLhUKGBVa3e9aaNrTLK2fEqCj4gQnW9733vc6vMv0E+el2oZktZT0GlZgGp2jJ8PdVNM5J88PLmm2/aYChslasVzabz4vD1AEA2giEAACpA7xAvXLjQHWUuquJUIZSPwqHsACvfrVbBlrbo94rdohr5LViwIOe/cyVvurgPvy8UNLS0tLgjVENYMfT73//erXLTa4OfoabQRsOxKyUMKv1sJP+80SwgvVZl09cW/ppeh2sdNioU8i14+vqoGAIQRwRDAABUQPhuut4hjlt1UFKpWsjP6pByh26jtnwQOXfuXHdPZmgwqicMKnqrxstuKatk618YVGqb/kKDdbWJLVmyxB11HdJfC2HLXVx3cwMAgiEA6MXTW7aa9RObzK9aa3tyieRQpZDfwl4Xvvne3S5H2Jrg38GvB6oW8oGbqoW0CxySL7yQr2R7Ur0JX3fyhThhMFTIHJ/sCq84UtDo/+76GmvZfrp9+3a3Mmb8+PFuBQDxwq5kANCLlUMuNq8efsGc0vc085UTz7p7i6Nw6cHZXzWvHOj+/58x9HzzsUVfNR9qnuruQVKpXUCVQuFcIVW09LT1e6k0v8i3cSgc0WygWqjm7mC6uNMwWn8xqr9zVMFQrXbkEl2Y52ovUaXZoEGD3FEnVURkB406rvZA3aix01x35T4mej3ygZCeIxrEnD3jRt9P/fr1s2uFzJrT0xv9fv99qM8Zx5bOxsbGjl0Wa7kT2JAhQzqCqbg+VgDqR75dyQiGAKAXS/uc41bGzH/rBbcqzuphl+YMhbxyQifEgyqEpk2b1iVY0IX6I4880u0iPgrhFtNq7QhbcaopvEBUu0cl52coCFMgJrq40kVWVBQ41SIUqjS1/oRBQFixoMfQV5tl/75q04WzLqA9Tk8zyg2GFFaPHj2647mtf2N932S/JoXhRSF/jl7rfItWLYPpnigQUzAmauHSa3G16XHXa4sUGroBQCWxXT0A1NComdPdKrc3T77uVkgKtXIpmFE1kEKaie0/aMNgQe0WlQqFJC5zK8IqlUpvXx3OCol6tlCtd+SqFF3s69/F3zS/x9/881a3kSNH2hBCN4V9/v5cN13o+t+b76bfU8z8mXCuEBUV0VEYUcgw5mJfp+bPn+9WpkuFpKd/ez1XenoO+O3oi32uFEqBlf976bnvg6/e6Ovq7WsvVPiayHwhAHFGxRCAuvT6sVfMf664yzy5LnOh2VMrVxQVQ/lU8nMjOv7iWrMiVBkUzvfJpgsRtS1UegcyXXx7tfxRrmDMX9Tr76xBwpUSl79z1BQo5qpWCnczCoUzSzz9vp6el7Wg7wXtOtab8DkkUbYIJl1Uz/mw9VSyq/sUzvjnYKF/Tvi16fP510h99J9LzwFVyeQKnsI/s9DnSrFKaSfz1VNRfE1hK18tKzsBwKOVDAAczfv5v9NmmpPHXnH39NzKRTBUf3SxEgZBepe9EGrT0EVtNVpy4hKS6HHSu+uiC01dIFZKWoOhStJz2V98i/69PG1Nnu/XoqCL8N5248sOLBoaGszmzZvdEaJ8zo8dO7ZjKL4C3DC8LjcYymfq1Km2YimbQszPf/7z5te//rW7p/vXFAWFMsW2k0X5mIeP6969e2vargkAQjAEIBEU2vxi6bfNxdOnVGQYs4ZIa95PrtatfMEMwVC66QJFwY9uv/jFL+zH8GI5H7W7KAi55JJLOtbVbIGJS0ii+UIDBw6syiBagqF0UVWGLpz9c0ehkILVXNUl9SrK53xYmaXKlXDb+UKDIb1e6vfpY1jllYtCIYU94b/n6tWr7c6CuV5jK1E1pEo6vT55hTyGUT3m4Z/NfCEAcUEwBCARotgBrCdb591m/nPFGrs+ffA5tqXMh0Tjl9xqxiz4sl2HCIbSQReferdct8cff9wGQIW23uiCRe82a3CvLl7jMAOl0iGJ2i90ATd9+vRe38UPB2FXchAtwVC6hM8bfU/t3LmTUChLlM/5sLpPj3c4vD1fMKT71qxZY18Penq9DF8j9THXDnkKhXLNN/IKqTArRbGPYVSPuX7WqEpL9Hjo+Q0AtUYwBCARKh2U+OBJPrNxnXl2+887gqJ8YRTBUHxlhz36mO+daF+VUIhCLnJqrdIhSTFzNnTBqJ2PvEqdWhAMpYeCBs1/8XTRHMfvs1qL8jmv18Cwuu/QoUN2NzrJDoY06H3dunUd83l6o9eI3kK98M9429veZv7617/adb52s6jUKhgKg7BKhV4AUCx2JUMq6OJDswh0cqEf3IXe9Pv1wznq+QlIHh8KyfsnN5pPLLnVHbEzWNzpAiX83tfOSX73pIULF9oLmVyhkPQUCmnmg6qAtMuVLk50gaqLHM05WbBgQd1erPodfAoJ1OJQQYXk0HMqnCukijRCocrzgbfnq7X02vrcc8/Ztej1VdvR5wqF9L2uqsDsXQF7C4VE1Yei/9+HQlLJgfUSfm2FVolG4amnnnIrYz7wgQ+4FQDEE8EQYk892uqL1wWh3pHWoMp8F3/56PfrnRtdQOpdcJ2Q+ose1DdVCenmqbUM8aRwN/zeLySwyKaLT//Ordoo9G6wBoIqBNLrjN655gIVqCz9HPcD3TV7ZcmSJXaNypsyZYpbGXPPPffYj3ptffPNN+06FwXnCs31eqnXTbWK6vWyWPp/VKWU3WpaSKhUjnCHu97mIoVvIIa7tpXCP8eFodMA4o5gCLEVBkL6QV5sGJSPAiGdlOrztrS0uHtRD8JqodA5oy52K2MO7vqlWyFuZs6c6VZdhWGPqn108ZLvpl/X79Pvp8oFqD79DA4vzlV54tuZUHkKSXwQoxBE51q5Xlv1b6KKSe0yqOBcoXkUavFvPX/+fLfqrJLKx4dlUu7fOaxO4ucNgLgjGEIsqbrHB0I6afF0QqELOm03muuiL99N73BpB47w3R9VG6j9pJR3vZBM2u3MGxSEQe8dc5lbGfPCnifdCnGji5Rc399h2EO1DxBvGmjuq/10sayfzageVWiFIYWqWvTaGtLrqip7VMlVbtVMHBQayii01Pb23qRJk9yqeDp39ZXpeswJPwHEHcEQYkdBjcqaw0BIJybqQdeJii4Awx75QuikQNuy6p0vlTCHJwkKn2bMmMH8oTrw6w2d5esfW/RVtzLm7Ev+1q2MOfQLKoYAoBJ0oaw3frzsOTWojvAcqJozd+LCBzbZskPLct5ooI0MQNIQDCFWdMIYlpj7QEiBTm/bJRdKZdSqMFDPvKd3iJg/lG7PbPtZRyvZGUPPt4OnvbB66AgVQ0A34bvoQKmyL7zD2S+onnAQcjgguVi1GupcivBrzTdKQBsYeOWGlrSRAUgagiHEgnq+9YPab+spCm40FDaqQCikEwRVDmWflCoQ8vOHuBBKl7Z7OucKjJza5FYZmjHkB1C/cuDZvLOIovar1s6TUCBuwgup8LUZKAXVQvERVrCElS3FKmaocy1oVzW96afzObUae36UgN/h0t/CNwXLDS3ZkQxA0hAMoeb0g1jbomYPl1ZwE16YRM2HQ/nmD6m9rB5LrNNIc4N+s2mzOzLm/ZM6q4W8CyZ8zK1Ml99bKbtXrzMPzPiyO8pY2uecvLfVwy4lSEIX4etjJV6rwgt3X+UBlIpqofiIqpWsmKHOteDHBCjY1jiBSp9XhmglA5A0fd7ShDmghtS6pSqdkN9hqNp0YqN3kcIf6AqMdPITvtuEylEIUmnz3+peEaTQxQc1CommPdI5jyj8mnL9v6X4zsiPmT+0/dYdFUZVTVev+qb5UHM0u8Mg2RSo+9YHXWTroidqehfd6+10oV+/fh0X/hpamz3QNgrFfD2ID70BpEpc//zIVbGL3Cr1nB84cGDHLEe9QTZ69Gi7lmL+nFK/vmp8L+f6M9RCpvO8nkRxDho+vpqPyfBpAHHROHGiOXLwoDl54oS7J4OKIdRc2NOtk0X98K5FKCQ6UV2/fr07ylAlk95tYmv76vAtXZVyYcMVbtXV3wQzhzSP6M2Tr7ujyrhgwkfdqnD6mh6c3Tk0G/Utbu/Wh+F5JdpKwjYPJIveAKJaKF7COYu1aAMLK3equTtsvt0tw1sU56DZO+oCQNxRMYSai+M7wAqCwlkInqqH1F5RiblHyNjV8i2zfeEd7igapw8+xwY/I6ZM7tIylu3Oge83J4+9Ytdnjni/uXbtt8y5Yy6tSMVQMbIfk1p8DYinSr9+FvP5deGvqiEv6q8nrC5VuKAqB8SfWnk058XT5g/l7PZUb8JKPD3noxpkrBaysEooVMz3bvj1FfP/ZVeL6/xKYdWUKVOK3nk2FwXJ2lDEq8TrY0/ieG4LAJKvYohgCDUX5x+eOtlRObA/6RG9y3Ui6xsJ6fDYijXmp/Nuc0cZCofCWUC1CmVqHU4hnir9+lnsRWklvx5d5PmqIVqRkkHPnbFjx3bMsdGbKtppFIWrZMtoU1NTzmrDYr53fWtWse1Xem7oz9eA6FzKeSNO1Tp6g88/brUIkgmGAMRV48QJ5sjB52klQ7zonUQvHP4cFwqBsndOCUMipMtlc2faIKjvgDPcPSby6iUgSpVuxwjDl1ruOqSfFT4U0s8KQqFkUEWID4UGDBhgZ0+hONkto1EOmo9iZzjfmlVs+5VeuxRy5Qt+1Mav4dGaTZWrgjsf/V79P1FuPQ8A9YBgCDV1zz33uJUxU6fGc6CuP+lBfdBg5xv3/swdmaptXQ+UInuuT9ThUPZFaTVngYSS8LMCXelNFO1E5uninFkrxcueyRRlQJv9uatN4ZAqyHSOpYqe7B1ixc95VAVOITf93nC+j9rTqv13jDK8A4DK03XuWwRDqK2whHnSpEluBdSWZhIBSaAKjOwhslGGN7pwDN/R1+cPBwlXCz8rkkcVG/4CXRf7uuhHacKKF30vRDmIXZU+quaqNb3WaEv5/fv3R1JZpuecQqfNmze7e6pDr42qdPKimJcEANHLhEGZWwbBEGoqPLlhGCXipNK7owFR8O0YlQyHdOEYfn61B2lo7a5du9w9lZXdRsbPimRYs2aNWxkzc+ZMt0IpFJqE34NhUFouVXEpkIkTX6mteY6lzBhSVeHevXtL+n/LpddfXzGk1+codjgDgGogGAKAHD62qPu28KNnTXcrID7yhUPFzubIx3/+sB2jra3NDhXObuOoBNrIkkcXxj441POnFhfoaaPdurx169ZFWrWnfx/9O8WNvibfalbMbf369TX5+yiQ1zBuT5VeI0aMcEcAEG8EQwCQw5gFX7a7f4W3q1d90/0qEC8+vAnDIT+bI7xQKZX//LpIq2bbiSqFWltb3RFtZEmh4MLTc5LZQuVTMOvDDoVuUVft+Xa1cG4ZCqdQSIG8p+e9Kp8AICkIhlBROqHXu9bhO8o6Dk/0AQDl8+FNdnWGLlaimkmiz60WjTCAyiWqi0sFW74yQu00tJElQ/gznjayaCiQDb+vfNVeFMGvlLq7GDI7oWWHQnotBoAk6dP+Q4DtllAR2e+ehHQBo97xsPUg7k/FJH2tSJcX9jxp1o6+wh0ZW70E9ERhysCBAztCFb3m6qJSu4wlpXpjy5YtprGx0R0Zs3PnToKhBNBMqIkTJ9q1ZkJpmDCio9BNA+DDnbdU7RPlXDEUZ8iQIR3huw+FfHUXAMRN48QJ5sjBg+Zk+7V4iIohVET2uyfZmDcA9O63mzab1cMu7RIKAYXwQZCngEhDo1WxGVWFQSXp69XFr6efGYRC8afZQuHPfmZCRc9X7YW7XekxJxiqjezh+IRCAJKKYAgVkV1Sq+ogVdn4G6XKQO9+Mvur5pUDz7qjjAsbCInQO1Xb5Nq5SIHLwoUL7XbKuqCJK4VYapURtdBEsX01KkfPNYWOmnsTPq+YCVUZqvrTNuxhS6fOu5IQ+qZN9nB8QiEASUUrGSoibLtSKJTvByWtZEBuu1evMw/O7twZTTuijZgy2Vww4WPuHiC/sLWhN+9617vMf/2v/9X87//9v2NzURN+/dpKe+7cuXaNeMr1fFNli4aVo3IU9DY1NdkgWPT9q3MuVIfCa4WhvmWXdlcASZCvlYxgCBVRaIhCMAQY8/SWrTYEyq4O8kZObTLXrV/jjoDe9evXr+NipRRqiVA1grbIDltWqoEZNckTPt/UwliL50290uOux9/j/KR6NPzb7wyn4fi7d++2awCIM2YMAUBM9RQKybVrv+VWQGH81tOl0lb3mhWngEbVINXaSVKVD2pz85hRkwzhVudqFScUqh5VCYWVfswaqg617flQSI8/1XEAko5gCABqbNTM6W7VnVrITul7mjsCCuO3ns530zvbas8699xz3f+Rn1qEFNZ8/etfd/dUjv4chVIeM2qSga3OayscNM8g6spTIBTO0tRuj6oYAoAko5UMFVFuK5neNZ49e3aXC4RCqO1A71xWYtczWskApJUPf/yskjhQ1ckjjzzijgDkkz1rSNjCvjKOHTtm5wr581MFQpotFJf5bADQG1rJEHu+VUEnNtOmTSs6FBL9PwqUAACF87sc+Uoihey1pBYyQiGgMAoltE169i5lBEPRC6sa9bivX7+eUAhAKlAxhIootLomHFipH6zaTaOY3XTyqcTTmoohAPXokksuMU888YQ7qjyFQprXwcUWUBwqhypLc4UWLlzojox9napEhToAVBIVQ4ilcECq/+EahkLqm1cIU8gtvIjQD28AQPkef/xxW40QztDQ622u1+EobrwDD5RG3ze5KoeGDRtm5s2bV/abbvVKgZuq0cNQSOeshEIA0oSKIVREOdU1pf6/OulZsWKFXevkSNVHUYpbxZDeEVy6dKmZPn06JycAKo5tsYFkyFU5JDo30htuGpas9lH0TmGaHku/A5mMGTPGtroSYANIonwVQwRDqIhaBEOVvmiJWzDkW+50YqLZIGwPDKDS4vY6CCA3X+Xi5zeGdN6gim3tJof8FAYpFMquZF++fDmhEIDEopUMqVdvP6S1M4bo5G/ixIk2KKJUHAAA6JxIM3AU4Ga3guq8QW1RGqS8bds2dy9CGzZssOdW/pxKj+eqVavsjVAIQBpRMYSKqEXFkFTy3ey4vVOukzpmKQGIA+1ipgoE2lqB+Nq0aZOdObRnzx53T4bayiZPnmymTJlC9bETboSix0fhmlrIACDpaCVDVRUTomTPyiEYKpxO7tatW2dP9krZ3h8AoqJ30aOe7QYgWqoWmjZtmj1vyEUhiAIQ7UaokEiVRgMGDHC/Wh9URaVqIdHjsXv3bmYyAUgNgiFUVTEhSjgrRxcVBEOlyfdOIABUg2ZvqM0CQPwV+8aSqgJHjBhhPvKRj9iPOk5rBY1mM61evdquNYdpyZIldg0AaUAwhKoqJkTJ/r0EQwAQT7wOAulTTvWxQiJVFqWlDU0Dp1UtpMoq2blzJy1kAFKFYAhVVczFQ/bvLefCo5IXLVwQAah3vA4C6dbW1maDoscff9yGJLr5kKQ3arfSSADNG0vigGZt6jF69OiOcExtdGojA4A0IRhCVRVz8ZD9e8u58KjkRQsXRADqHa+DQH1SYKTAREHRU0891bHORVVE2hEtaZU22prez15SsKVQSH8XAEgTgiFUVTEXD/369et4N0o/hPVujVfs05NgCAAqh9dBAKFC29A0k6ihoSG2LWeLFy+2cxo9BVvssgggjQiGUFXFXDxod4wNGzbYtbZL9e/WSLFPT4IhAKgM7SDZ2NjojngdBNBVa2urmTdvnm3JKkatB1tnh0IKhBQMAUAaEQyhqooJUfRuU1glFCr26UkwBADR0+v02LFjO6o79Y7/I488YtcA4GmX2RkzZtgguVxq59JrTiWDo+xQSJ9Xr21JnJEEAIUgGEJVFRui6CRC7zRlK/bpSTAEANFSe4hCIV3wiS7KtFOPBs0CQCHK2fksHx8cRUWtbhs3biQUApBqBEOoqmJDFF1wqGrIX3h4xTw99f8OGTLEHREMAUC51BKiUEiDZ2XAgAE2FGIgK4CoFDPYulIIhQDUi/Par5dPnnjNvPnmm+6eDIIhVEQpIYrmDGneUKiQ/1eVRioDDt+BqsQWowRDAOqJ3onXTKFt27bZY10wbd68OZaDYwGkV6WDo6lTp9qZQoRCAOqBrml1LqcK8BDBECqi1BAl/P8k3/+bKwwK6V0fDbKOEsEQgHoSbgwg69evtxdQAID00Dyo2bNndzmn1gXjokWL2JkNSCFd02qWWvYbfW9zH4HEWL16tZ1JlC8UUjlw1KEQANSThQsXdgmFlixZQigEACmjUEhvAmSfU+tYYZHOuQHUB4IhxEohZbxLly51q65mzZplDh06ZFsdAACl0YVAS0uLO8q8ti5YsMAdAQDSQm+0apZcLmonVjgU/jwAkF4EQ4gVXYD0Jl81kC5mNHxa5XG6DRs2LOdOZwCA7vxFgG6eKjBXrVrljgAAaRJu+qJzcI1KUIVoKNzOH0B6MWMIFVHqPB5dmPTr188d5f5//cVLIaGPKpCWL19eUODUG2YMAUgrXRw0NTV1Geg6ZswY24POQFYASKd857aFnI8DSCZ932uGGMOnURXlhCil/L+bNm2y72js2bPH3dNVFEP0CIYApJF2HVMoFLYTKExXqE4oBADp1dO5Lee9QDq9q39/o+/u7O9qgiFURLWDoWzqh9bw1JAucE6cOOGOiscPSABpk/1aqddJbdvMoGkASD+CIaD+NE6cYI4cPGhOZl0XM2MIqaRBqQqBwgohlcUycwgAjK0OUpVQGAqNGDHC7Ny5k1AIQM3pfE2zIhVOhDfmRwJAZVAxhIoo510G9TQrxJEonp7h5yunaqicvxMAxIVabrU9cVtbm7snM9RflUIDBgxw9wBAbWgzkXAIfrZyK8DRqadzW857gXSiYghVFc6lWLx4sVsVRrOAJIqB0eI/n5QzYwgAkkxVQno9Hjt2bJdQSDvQbNy4kVAIQCz0tguWf7Ov3uWrqtKtkMqqcEcyAKBiCBUxb948s2LFCneUCWeKDYjiRj9oPb5tACTFgQMHzJ133mnfhQ8vqBQEKRCaMGGCuwcAai8831JlkH+zkfOwTjqn7i1A662yKjxXHzVqlNm9e7ddezzeQDrlqxgiGEJF6OJD8yu2bNni7jH2B45+8CQVPyABJIlaxhQI5XrXWFvRKxQaPHiwuwcA4iHf+RbnYRm9tdqFenqchgwZ0lE1pJ8HaikO8XgD6eSDoddPnOiyMxmtZKgIvUuR/U50b+9sAADKp+3nGxsbzejRo7uFQgrn169fb4dMEwoBQLIoyFGlj9fQ0GCrghTc+Fsh9HPCh0JDhw7tFgoBqD8EQ6gYhUPLly93R8Zs2rTJbo0MAIjehg0bbBg0ceLELtWaoouHRx55xFZususYgCQK51fWq6VLl3a0BCvo15uwpTwu69atcyvDzwSgjqku0N8IhlBR+qEVDnzW1sgMuwOAaOgCQW0FGjSqncbUPhbS66/CoM2bNzNLCEBFKZD2w5DL2VY+DDrC+ZR+QL5+vdTPnXR6A8DT/M5SQiE9puHjN2nSJLcCUM+YMYSK04WL3sHetWuXPV61alVkO45VE73WAOJEgZBadLPDdl0o6DX25ptvti0CAFAN4cwa0WtRKdvKZ29gkkupnzvJFPyrKtTLdy7a0/lq9nwiVZPqjYNcOO8F0imcMRSiYggVpx/eM2fOdEfG3HPPPW6VHPpBCgBxoXd8dXIfXoRpZpDeQT506JBt4yUUAlBN2SF1uAtiMZYsWWIDi56U+rnjREGPQrB8W87r5iuv9PedMWOG+z9NyRWg4bxPPcZqRasUVZDpjeF6re4CkoaKIVTFsWPHzMCBA91R8t55CN8FUy+2hrcCQC1kb1OsAGj+/Pm2bayUtgKdvCtk0rb2uejzqy34kksusRcjWvuWDgDwFGRkK/V8T0GIXpfyhQqqilQFehJp5qYCoXyvudn0uq7XeP+6r2O1CI8YMcIeZwv/HbIf//DXVHHV08+Mnj5Pb/RzRe3NOv/Xn1Fv1V1AnOWrGCIYQtX069ev4x0eXcBMnz49ETMvsstue/tBCgCVkh0K+Xd8y3lNym7/KITCIm15P378ePs6nu8CBUD9iDIYSrNSXnNVEer/H1VULViwwK5zyRfohK1oCvePHj1q1/mUGgzpz9HOmOHfkecBEB+0kqHmwrlCegdI5aX64Rj3EtPwIkzVQoRCAGqhEqGQ6B3dYumdbg1BVWg+cuRIewFR6q2cIbUAkDRhYKJzY+0YqeBENwVA2XTuGf4/+UIhP/w7H21R71XijVlVQunPV/iU/XcEED+Ka8PIloohVI2qhVRWqh8c2VQSq/aEONKFi0e1EIBaqFQoJC0tLXbHyHytGXr3V7fHH3/cfgwvLqKivwetBkCyhedLHpcZXWVXoWc/PtmPoUKhtWvX2qp7L99jmqsSKfy9TU1NHefgmkM3d+5cu84n/FoK+XfM9efrZ1W+4dYAasNXDJ0Mzrv03U4whKrThcW6devsDyffX613LjS3J9c7JbVW7A9GAIhSJUOhUvmAaPv27fZjKVVH2Xh9BZKNYKh3YXgSzqzMNestfOwKORft7fHXrE//Wl3IG7LFnP/q76S/m6c3GqZMmZKIkRFAvSEYQuzowiLcdlMXOZo9FLcfJARDAGoh14VCHEKhKPH6CqRHb8EEuj5GvgpdrbQaRh0G7NkbnRTyWtnb41/s622uz1cIBU4KngDEU75giBlDqBn94Aj7jtVqphJbP3tIPySzS1KrTeGVxy48AKop7aEQANQztYcpfNE29NmhkNrHolTK+XSpP2sWLVrkVgCShGAINaV5FrrQyS5n1Q+wFStW2CF2tQyIKj2oDwDymTlzpltlLhSSEAr5jQUYJg0g7VTVqde7r3zlK/Z8VSFPb7fe6A1TVQpF/Vq/dOlSt8q8MVuIUgIevYExefJkdwQgSWglQ2zkmj3k6QekfljOnz+/anOI9O6NBvX5cKiQQX0AUK/Coap6zdZWyL1d3IQXSpyOAMmWK/hI8/e1nxekv3e5f09fJZTvNbOQUCkX/3WFs430JgPhDVC/mDGERFE4pGGrYStXaOjQofYdj0suucRW8mgdZauX3gXSDmphaW+cd04DgFrSBYfeMVdLsGTPx8iHYAhIj+zwQudlCojTSOeJjY2N7qg0xex0q7Yz//paLl5rgfpGMIRE6i0gCkUVFmVf4EihFzkAUI9UKaSKIdFr786dOwu64CEYAtIjOxgaM2aMfS1Io7ACRwp9/Sr1Na+lpcUsXLjQHeWn193eAiRea4H6xvBpJJJKXVWpk2sOUTa1n/kgST3f2pZTAY/W2u5ZMy/CmUH5qA/b/1BV25pKewmFAKA7VVWqutKHQqK5FIW+Cw4gvdJcZR2GQuFGKpWyYMECG+j0duvtDdFqfK0AkomKISSSKoh0e/zxx+3HQgKfUtCHDQC57dq1y85hCy+QNHh08+bN7qh3VAwB6ZFdMRT32Yx6w1BvJmbPtRRVoSvkbm5udvd0VeprVyVf83QurDdDRV///v377RoAQlQMIVX0LpR+WOuk45FHHrE/XFVZpOoenYREtYMYoRAAdKeWhrFjx3YJhfSOtsJ0AJARI0a4VXVo7k/27mA6zrVLoirJtU18rlBIdL8fpp8U99xzj1tlRiAAQDGoGEKqqZpIFy56Z/upp56yP+i1LoTKbbWdPgAgo62tzV5Mha+jarlVu20pgXwl3z0HUF3h97McOnSoIjvJKgBS2//06dO7VPQoBMoV9Ki1VYOeRf+vAp98gVC2XK9LaqHVuAKvmNeuSr7mhXOPNNtJM54AIBvDpwEAQMk2bNhgL6jC3RpVValKzVJ3hSQYAtIj/H4Ow5io+QAk+8/oaUCzXl/02jVy5Mhu7a+qdAznovX0uqRZlgrHw9fBYl67KvWaRxsZgELRSgYAAIqmYfwKhDRk2l8M6SJKgZAuqEoNhQCkl8KJSvHBTvbuW9kDmkMKTlRRFIZCarfKDoV6kx2OK1iKg3Xr1rkVbWQASkMwBAAActJFlN6FDncdU3uCZrrlG8oKAJUMhkoRBtuiQEctsMWEQnodDIMlhePFDNuvFL/zrjdp0iS3AoDCEQwBAIBu9A672i7CeUKavaaB/9UeKgsgWeIWDPlARxWOxQQ6av3yt3AYtapy4hCOKxTSzmqeAi9mCwEoBcEQAADoQrM6VCmU3TqmgfzFvMMOoD69733vc6t4UbjdW6BTyGucXg9rLVcoxM6QAEpFMAQAACwFQU1NTV0GuOqdf+1wQ+sYgELFrWLIK6TNatGiRW6Vm8KlKALysBqplFuuUIjgHkCp2JUMAACYPXv22Dkc2pLeK3fXsd7o4sbjdARItvD7uZLbpRf6uhH+Pq/WrzP9+vXrNjS7XIRCAIrBrmQAACAnDS4dO3Zsl1BI75qz6xiAUsRxDlkcduvqrRqpWKXsrAYAuVAxBABV9vSWreYXS79tLp4+xXyomW1lUTtqHZsxY4bZtGmTuycznFUXGhMmTHD3VA4VQ0B6VOv7udA/J6zOUYCi6kcCFAD1joohAIiJB2Z82Tyz7WfmwdlfdfcA1ed3HQtDIb8VfTVCIQDppdbUWvPVOZoJVOzW9ABQbwiGAKDKXj38gv345snX7UegmvQOuoZLa9cxv4WzLFiwwG5FX82hsVyoAekUDkauFb2mqaJIuykCAHpGMAQAQJ3QDCEFQtqO3hs8eLANhJYsWVLVoEZtbL7NgzlGQLqElYgAgPgjGAIAoA5owPTo0aPNrl273D2ZXcf27t1bk9axcNB1HAfVAgAA1AuCIQAAUkyVOU1NTXbItK/QUWWQBrHWctexcAbJqFGj3ApAWoStqgCAeCMYAgAgpXoaMN3c3OzuqY2nnnrKrYz5wAc+4FYA0oJ2MgBIDoIhAABSprcB03Fo3QorhmglA5LNVyOG7rnnHrcCAMTZW+03giEAAFIkTgOm81m9erWtZvJoJQOSTTPMsul7fPbs2bSUAUACEAwBQEI9vWWrWT+xyfyqdYO7B/VMFTjz5s2L1YDpfMKtrKdOnWqDKwDJtWbNGrcyZujQoW6VCYGHDRuWMzgqhP4/Bd2l/v8AgML0eaudWwMAqmBpn3Pcypj5b73gVsVbOeRi8+rhF8wpfU8zXznxrLsX9URh0Lp16+wsjwMHDrh7M1QZtGrVqprPEsqlT58+bmXMiRMnYlHFBKA0ev3RgHtRyKsgWsPus2cMabZZMdWBixcv7giR9Rpx9OhR+zF8/eAyBgCK0zhxgjly8KA52X7+FaJiCAASSqGQvHnydfsR9UG7jKlNTO/CqzpoxYoV3UKhuAyYLgShEJBsCqe9m2++2e50qB0PdQvnhyk8KqTyR69xqn4MKwtV+ehfK3jNAIDoEQwBAJAACn80r2PIkCF2sHR2GKR36mfNmmVnCe3cuZOBzgAqTlWLvjJIgU0YRivMWb9+vTvqfA3rKRzS51LorcDba2hoMGvXrnVHxixatMh+1OsdACAaBEMAkFKaQbR62KX2xhyi5NIAV73TroslzesId/8Jw6BDhw7Z1rE4zRICkG7hbCG9FmXPC1PrWBjg6PVLbWZqB8t102udKoY8hUKqPAqrhLS7olrI9HoHAIgGwRAApNQDM75sXjnwrL09OPur7l4khd5VV6uYBq9mz+pQ+KOLJcIgALWi3cbC6p/p06e7VVd6jdKOiMVSldDmzZtpHQOAKiAYAoCU8jOIhDlEyaALLQ1cVbuY3lVXm0ZIbRqaHaQKIbVpAECthBWMej3qabC0qnyKCYdUZZSEGWkAkBYEQwCQQmEohPhra2uzQZDaxTRwVQGRp0GuuqhSdZDeQS9mVx8AqAS9Zi1dutQdGTNz5ky3ys+3gBVyo00MAKqLYAgAUugXS7/tVoizLVu2mMbGRjNy5EjbkhHODxo6dKhZvny52b9/v32nPXt2R1Lp7wwgufQ6NW3atI7XK+2CqFlAAIDkIhgCgBT69YaNboW40cWUQiCFQQqFsoMSXWRpJx8FQnPnzrUVQ2miXYkAJJd2RfRtrpr/E+48BgBIJoIhAEghWsniRbvsbNiwoaNdTB/VihGaOnWq3WZeN63TKmw5YbtpIFm0S2K4lbxavlTdCABItj5vqZEXAFA1S/uc41bGzH+r9ADnn/qd3zFU+mOLvmrGLe7ceSz8M7xy/iwUT++oqxrovvvuM7t27XL3dqVqIA1Yvfnmm7m4AhBrmn2mnRL9DDQF2FQLAUCyNE6cYI4cPGhOnjjh7smgYggAquiFPU+6lTF9B5zhVqUZPatzx5af3f5Ns6vlW+4ItRBWBWlXMV1AqeUiVygUzg/SR0IhAHGnNlAfCuk1iwHRAJAeBEMAUEXPbPuZWxlzwYSPulVpPrHkVnNhwxXuKBMO9eT1Y6+4FaKiqqCWlhYzduxYM3DgQDuQVfODwl3FvBEjRtiZQZs3b07t/CAA6bR48WKzadMmd2TsDom8fgFAehAMAUAVPbv9525lzPnjywuGTul7mmnauM4dmY62st2rO+8L/aFtn1uhVMVUBWko6+TJk+276gqC9u7da6uD2L0HQJKsXr3a3H777e7ImEWLFpkJEya4IwBAGjBjCACq6M6B7zcnXeXOjN1bzTmjLrbrcoTzhOYe/a3515Efyzl8+rr1a8zIqU3uCIUqZFaQp6ogBT/XXHMNARCAVFAI7qsg9bq2ceNGG3wDAJKHGUMAUGOaL+RDIc0XiiIUElUOeSsGvr9LKDRmwZfdioqhQlEVBAAZaiELW2MJhQAgnQiGAKBKopwvFAqHUIc0f+icS/7WHRnz8lMEQ/mUOivoxIkT9kJJ264zQBpAmigUClvItAsZoRAApBPBEABUSZTzhUIaQv2h5qnuyJgzhp5vrl37LfPZzRva1xe4e4155cAzbgWqggCgK7XMDhs2zPTp08fewlBIr3caOA0ASCdmDAFAlVRivlBvtBOZ2stE7Ws3H/2tXdcjhT6aE6SLH1UI9YRZQQDqjUKhAwcOuKNOeg2khQwA0iHfjCGCIQBwftW6wW75/sqBZ909uaki5yPzv2xGz5ru7umd5gutHZ3ZWr7aAc0/9Tu/Y8ey+W91H0qdVrrAUQj0k5/8xGzbts1WCeWjC54wCKItDEC9UTutKidDah9TpRChEACkA8EQgNR4estW84ul3zYXT5/SpYWqHNri/cHZX3VHhfnYoq+acYsL+38eW7HG/HTebXb9N5Mbu2wzX2nhrmVpDoZOnjxpg6Dt27fbj21tbe5Xchs1apTdcpmqIAAAANQDgiEAqbFyyMV25y3txvWVEz1X9xTKf85iFRoOrZ/Y1DF8+pPLv2EumzvTrqshzcGQWsJUDaSqIIVBPRkwYECXqqDBgwe7XwEAAADSj2AIQGqErVHjl9zaZUv2UoXhicKmcAv4kP7cjU3TbdWS19O8oD+0/dY8MOPL5vldv3T3VG++kJe2YEgtYatXrzZ33nlnzl3DQmPGjDGTJk2yQZAqhAAAAIB6RTAEIDW2zrvN/OeKNXYdVdVQMeGJwqEfNE7tsv18oardRiZpCYY0M2jp0qV2G3m1jeWi2UC+KkhtYqoSQu8efewVc/cPjpiGK880DVed6e4FAABAmuQLhtiuHkDiaHt2z1cOlWPH4m+6VWEURqkdrBj6f1TdVO1QKA3UKtbU1GR3zFGlUBgK+a3ktX28tpHXdvLaVl73EQoVrmXZ782eJ/5klq18xt0DAACAekEwBCBx8rV5lUJDp7UTmTdyapNb9UytYIXuSnbumEtN8+6tkbS81RNVBo0ePdpMnDjRbNq0yd2boWogbZ984sQJ+3Hu3Ll2i3kU7+Wjf7Y3eeONv9qPAAAAqB+0kgFIpHDO0Kz9v7RbyBdLw6ZXD7u04/Nc2HCFreiJMniKg6S0kqlVTNVBflexXPODmpubzc0338y8oIhseegP5n9/93nz4ktv2OPhF73TfGflSLsGAABAutBKBiBVzh1zmVtltq8vhba896HQoFEXpzIUijMFQaoKmjFjhm0T001r3ReGQmoJW7BggTl06JBZu3YtoVAEjr/6F7PyrudMy7IDHaGQNH9+iFsBAACgXhAMAUikYddMdCtjDvyk+GDohT1Pmt2rW91RZtv5tIZCcfl79RQE6deyaZC05gUpEFqyZAnby0dAQ6anNj9pPn39HnPvxiPu3ow+ffqYcWOZywQAAFBvCIYAJJLavjxVDBUzhFq/V1vI+/9HM4DeP7nRrtNIoZcUOhMpKsUGQRokrR3FFALt3LnTDpKeNWuWvR/R0JDpw0dyf6/QWQ4AAFCfmDEEILE0H+iVA5mt6qc9stFcMOFjdt0b7ULmB06rmkaDoc8c8X57jNIp7PEzgvQxV/gTUuCjIdLjx4+3H8eMGeN+BVHTLKHW7x/qEgoNGPAOc+xYZui0951/HmmGX/hOdwQAAIA0yTdjiGAIQGKp6udXrRvs+r/MnWmuKGALebWQ/Z+xjR3VQtpCnt3CSkMQFH+aJaRAKLttTDRoet/vXnNHGeM+OsDccdtF7ggAAABpQjAEIHV+u2mz+WFTpj1KFT837v2ZXeejMOh7YxvNkT1P2mO1kP23nZvtGr0jCEqGHTuPmZVrnsvbMiYf/9hA8x8/O2rX73hHH/PnP3eeCmzbfKlbAQAAIE0IhgCkzuvHXjErh1zcUf0zY/dWc86oi+06l+0L7zC7Wr5l17SQFaatrc2sW7fObNiwgSAoAV4++mc7XPqNN/7q7ul0+WVnmDtuu9CceurbzK3f+J3Z8fNj9v7rmwaZ+3/8Ysf/s6H1Q2bwoFPtGgAAAOnBdvUAUue0AWd0GULt5wblorlCPhQSDWQmFMrt2LFjZvXq1Wbs2LFm5MiRpqWlJWcopCAoHBZ9ov0HzObNm+3W8oRCtaG2sexQaPCg08yCW4aaf/jGcBsKPfPsyY5QSMc3fHaQ+eCI0+2x7HniT24FAACAekDFEIBE08ygtaM7w6H5b73gVp3CYdOiMOmzmzOzidBpy5Yt5p577rHVQSdPnnT3dqIiKL72Pf2auXfTi2bLQy+5e4y542sX5dx+fuVdz3XMHPIzhVq/97wNlaThqrPMglveZ9cAAABIDyqGEGubNm2yW1n36dOn5Jv+/2nTptlKB7W/oD701DomuUKhpo3r3BFUCbRw4UL7/dPY2Gi3ks8OhaZOnWo2btxIRVAMaZ6QWsdu/NLeLqGQ2sZyhUJqNVPbmNf8+SH246gPv8t+FCqGAAAA6gsVQ6i5w4cP24vSXBUK5Rg8eLCZPHmymTJliq1uQHot7XOOWxkz59CT5vTBmeN8oZDmC9Uzfa+pKkizgzREOpcRI0aYm2++2X4P6XsJ8aMt6Ffe9aw5fvwv7p6McJZQtrAySL9P7WWi9rNPf/bxjjY0tZ41XHWmXQMAACAdGD6NWNqzZ4+tVlALSyUREqXbP/U7v2MAdT6EQsbs2rXLrFmzJm+r2IABA2x10MyZM82oUaPcvYgjVf0sW/mMO8q47lNnmys+MbBL9U+2z9zwhK0akuxWs6+37Ddbt79s1wqVvrNypLng/L72GAAAAMlHMIRY0TBbXaBmD7RVu4oCnFIoZFL1wy9+8Qv7UZVIuRASpc/WebeZ/1yxxh11V8+hkL7HFATl+n7zNEB6+vTp9vtCc4QQT6oQUrXP4Rzb0CsUumXOBe4oN7WIzZ3/G7vu3//t5kc/6Br+HX/1L7YlzX9+hUIKh3JVHgEAACB5CIYQC5r9M2PGDFu5kE0XpQqGoqKgSK0yml+U74I429ChQ+1Fslpo1EqD5Pjtps22bezInifdPRkjpzaZa9d+q65CIVUD6Xmv53++ajw911UZpAohrRFvuSqEvAfvG11QeFPIgOlft71qwyPfUsYgagAAgPQgGELNaajt7Nmzu7SwVKt6p5SQSMN1/YUzVRRIAgWuep6rQkhbzmfT89i3ijE8OhlUxaMdxO6974Vus4SkkEoh78Y5e82+371m1z3NELp30xGzcs1z7siYH907yvQ//e3uCAAAAElFMISaUjAzduzYjlBIF6iLFi2yuxtVW7EhkZ+7QusZ4kgtk75VLN9ufIScyaQqobtaD3YLhAqtEApprpDmC3m9hT1hiKQB1RpUDQAAgGTLFwwxOAAVpzBI7WM+FNJQ2927d9ckFBL9+cuXLzf79+83ykXD286dO01zc3OXi2dVXmgL/IkTJ5ohQ4bYYdlh1RNQCwqDmpqa7HNy3rx53UIhVePpe0zP81zPa8Sb2r7UOpYdCqlCqJSZP48+9ke3MuaDI07vtQIoHGC97+muJw4AAABIF4IhVJyCFFXpiC5M169fH9v5PaqsWLt2rTl06JBZtWpVt69T1RkanD169Oicc5KASlKFm76fFAZNmzbNVr1lU1XQ5s2b7XN4yZIlzA9KoHAWkAwedJpt/dq2+dKC28ayPfrLzmDo8kvf7Vb5DR/Wz62M+fVTr7oVAAAA0ohgCBWjCga1j61YscLdY2z7WBKGOqt9bNasWWbv3r22umnu3LldLrD9300zk7QDGlBJqg5qbGw0w4YNs8Fk9o57qoJTkHn06FEbvGqAOpLn8JE3bJVQGAqpheu7d30w7zygQj36y1fcKvM5ezP8os5gaN/vqBgCAABIM2YMoSJUyaCKhrDlSherqmRIMg3QVttO9mBfte3Mnz/fBkhAFBT+6Pl25513dguCxA9uZwe95Nu6/WWz5eGXzaOPdYY3ogDnjtsuLHu7+N62qc/n6km7O3Yn++HdHzbvGfgOuwYAAEAyMWMIVRXuPqb2MbW0JD0UEs1pURVRdkWGLtwVGKmaAyiHtpdXqOrnWWWHQnruqSooX7sjkkNBkAZCf71lf8VCIVEw5I0bO9CtehfOGdrx8+673AEAACAdCIYQObVW+YtZVTXUctB0JejvpJArV4vZ7bffnrO6A+iJKtDUcqlWMbWMqXUsFLY26rmnOUJINu0Sdus3nrYfQwqEvrZgmN0JLIpQSHbs6gydRn2ov1v17opPdIZIW//9qFsBAAAgbQiGELl77rnHrTIVNmmtaPC7m+li3e/2pCopPwcG6I0GmGvHPr+zmIZLh3obho7kuvsHRzratNSidcPnBpsNrR+ygdAV499j74+Cgie/7byM++gAt+qdfq8Pp1R1lB1iAQAAIB0IhhApVctoLoo3adIkWw2xePFiG5j06dOnoJt+b/h54kyhkKo5PIVDagEiIEIuen7ouT1y5Eg7wFzrcBZXWB3ENvPppIDl/h+/6I6MueXvLzA3zXivGTzoVHdPdIrdpj6k30s7GQAAQPoRDCFSS5cu7bjIVYuV5qUoIFGLVXY1RE/0e1VJkSs0iuIWdfCkyqGNGzfaKiLPby3ut+pHfdNOdpq9peogPbd1HKI6qH6E1ULDL3qnGTe28CqeYhW7TX022skAAADSj13JECld9CZlxo6qME5kTWMvl0IxXfyHoZN2jlJohPqk58KaNWts21g2PQc1L2jmzJk2GEJ90MBp35Z1x9cuqmgw9OnP7jHHj//Frv9l+QhbNVSM46/+xX69Pshq/vwQ0/yFc+0aAAAAycKuZKiKfKGQqodUDaEc0t80RDcc3FxtatGJmi709ffUYGpPW/ejvvhqMV8dlB0KqRpIVUGqDtLzhVCovoSzeioZCmkukA+FtE19saGQqJ2s4aoz3ZExrd8/ZFq/97w7AgAAQBoQDKHidOG7f//+bkGMLpiLaS8rhYKaMIwKb7owrxS1lIVzYTRjCemnEFC7ivn5UmFQqueDvgc0N0jzgzRHSPOEUH+i2m2sN6VuU59tzk3n2d3SPIVDd/8buy8CAACkBcEQIhWGIV6+ypxqtJyFQ32rLRxIrRlLhEPppOHqCoEUBjU1Ndm5WiGqg5BN7Vhy3afOth8rpdRt6rMpyLrjtgu7hEN3rT1oDh95wx0BAAAgyQiGEKlFixa5VXGKrehpaGiw84Fy/X+65Qqoqm3JkiX26/QUDrFLWXqo2s0Pk1bbWHb1m2YHqV2S6iBk09b02zZfam6Zc4G7J3rlbFOfiw+HNCzbCyuSAAAAkFwEQ4jUggULbDATBQUpueiCW8Ocewp/fEAVVu1Um74+fZ3Z4RCSbdu2bbYySBVCq1ev7lKVpplZCgRVHbR+/fou//ZANZWzTX0+CofGjemsGtrzq+NuBQAAgCQjGEIsqR0nbDULq4N0wd1bRZAPqCo5R6gQPhzyatnahvJod7HRo0ebiRMndhsoPmHCBPvvrFlaeu4NHjzY/QpQG+VuU5/PqA+/y62oGAIAAEgLgiHEjkKhadOmuaOMclrD9Pl0Ma/qjloo52tHbfn5QX53sT179rhfydD8LO1A98gjj5jJkye7e4Hae/SXnfOFwtlA5VL1kR+effjI68wZAgAASAGCIcSOLsB1Qe6V2w6mOTBq/9FHZvygENnzg8LqNc0KUlWQHyatHeiAOIlim/p8FAqFn4+qIQAAgOQjGELshBfhCoXKbQcLKzmY8YOe9DY/yO8upjlCtIshrsI2snK2qc8n3OGMOUMAAADJRzCEWGtra7OzXcqhi3iPGT/IpdD5QQoqaQ1E3O3Y2VlxefmlnTOBosKcIQAAgHQhGEKs+RawchRzIa+AQOFAuWEU4o/5QUgjzfx55tlMAK62ryjnC3nMGQIAAEgXgiHEXiWqfBQKLF682LYM9enTp+OmgMCHUVQXpZOq0PTvnG9+0Ny5c211EPODkEQ7dh51q+i2qc/GnCEAAIB0IRhCIiisKVV29Y8CoIEDB9p5QxoynIsqRGgZShftTtfY2GhGjhxpnxPZ84OWL19uAyF91DGQRDt2du5GNm5s9NVCHnOGAAAA0oNgCDUTBi+q3vFyBTJq71Kg44cC56ML/lxVQMWYOnWqrRZB8in80XNCYZBCIYVDoTFjxpj169fbQEiVQqoYApLqjTf+an7d9qo7qszgaY85QwAAAOlBMISaCbehV/WOLtwVEGnYbz5+G/Ew+AlvCoHyVQFlU1WIAqC33nqry01BAdVCyRa2Cuo5ofaxkMK/nTt32pvWQBpoNzKFQ3LB+X3N4EGn2nUlZM8Zav3e83YNAACA5OnTfiH8llsDkVFI4+V7iqmaQ1uDZ1dxVJPCoUWLFtlBw5VUyOOB8mlekCrK7rzzThsOhVQNpH/nm2++mVYxpFLLst+bLQ+9ZNc3fG6wuWnGe+26Ulbe9Zy5d+MRd2RM8+eHmOYvnOuOAAAAEDeNEyeYIwcPmpMnTrh7MqgYQs2oKkfbgNeyYkPVRaooUXCj6hJ2I0smBULz5s2z/4aqPgtDIeYHoV48+ljnfKHLL323W1XOTc3ndtn1rPX7h8zd/9Y5zB0AAADJQDCEmlI4pNatc8+t/bvMYUiU70Z4FC/+30w7jK1YsaLLQGntKKZWQeYHoR5ottDLR/9s1/37v73LDKBKUSvZHbdd2CUcumvtwY6vAwAAAMlAMIRY+Pu//3u36p1mE6kdq5DbiRMnbKATFT/jCLW1Z88eM23atJxBnQZKqxJt9+7dFW8RBOIirBaq5NDpbD4cCrev3/Hzrm2cAAAAiDeCIcTCggULuoU6ofD+VatWuXt7p4qk7M9VrrAqBdW1a9cuO5dq9OjRZsOGDe7eDA0tf+SRR+xA6cmTJ7t7gfqwY1fYRlb5aqGQwqHrrj3bHRmz9d+PuhUAAACSgGAIdSUMmMJbKNevb9682f0qamHbtm1m4sSJZuzYsWbTpk3u3gyFQKoOUijU0452QFqpdWvf715zR6ZLa1e1jPtoZ6umtq/f8tAf3BEAAADijmAIqaahxFHQHBtUn0IgVQcpFFI4FFKbmOYHqW1M84SAevXoY390K2NnC/U//e3uqHr0Z/rt62XZymfcCgAAAHFHMIRUW7p0qVtlhhEXS7NsFAqFAZNmHBWD1rPiaW7QyJEjbduY/g08tQZqkLQCIQ2WZocxQG1knTN9qrEbWT7art5ruOpMtwIAAEDc9XlLfTJAxMKBz6U+xaL4HNqtyoc6qizJN3sm+89SpYq2P9ew6ZC21tcuasVQyOErjhRkKNRAdwrQNDdI281nP+7aUUyB3M0332wGDx7s7gXwxht/NZ/+7OP2o3z3rr81F5zf164BAACAUOPECebIwYPm5IkT7p4MKoaQamGlTzEDibXzWHY40dDQYKtUirVmzRq3MmbmzJluhZC2mtcOYwrQwsddIdCSJUtsmKaPhEJAV5rn40OhwYNOIxQCAABA0QiGkFqrV692q54tXrzYrTJytY5psLEGUKuVqRhqg9JOWqL/l+3Tu9qyZYttGVN1VviYq7Jq+fLlNhDSjnWqGALQXbgbWTgAGgAAACgUwRASQa1euqmqRK1ZhQjnC6kFLBeFR2pdCoWfX/+ftscvdberdevWuVWm4oiKl4y2tjbT2Nhob1p7CoRUlaVASLOEig3igHoTDp4eN6b6u5EBAAAg+QiGEFu5QgG1GanNqxDTp0+3H9VClqsFTAHQwoUL3VF3pbaOhcKQiTYyY44dO2arg1QlpGohT4GZAjgFQlRVAYV55tmT5vCR1+26f/+3mw+OON2uAQAAgGIQDKEiwlAnu1WrUIsWLXKrrgoNDvTnHjp0yA6dzg6ZVCmkljEFFSEFFOW0jmULP7+Cpnrm5wjpo6fHV61ie/fuLXq3N6De7dgZ7kZ2Rpft4gEAAIBCsSsZKkJVIWEAoJCn1IAoapplo4Ai3EZeLUz6GqOuVoliZ7WkU2WQng9hy5iokktzhNhyHijN3Pm/scOnZcEtQ9kiHgAAAD1iVzJUlXaQCitkNMenpaXFHRVP4YLCHD9rqJybtrAPQyF9napYoYUpWvnmCI0aNcpWZKmSi1AIKM3xV//SEQoJg6cBAABQKoIhVIRahHThnx0OlSp7G/Mo5Wo1Q88U1E2cODHnIPDe5gjt3r275GHeADJ2/LyzjWzUh99l+p/+dncEAAAAFIdgCBXjwyEfuqhKp9R2suxZQFHRrmOEQsVTULdt2zb7Mbsia+DAgcwRAirs0V927kZ2+aXvdisAAACgeARDqCiFAmEYoKqhPXv2uKPC5RtEXQ6FQuXuOtaT8O85YEC62jwKDeo0R0iBkFoL0/YYALXyxht/NY/+8hV3ZMy4sXxvAQAAoHQEQ6g4hQJh61ApLWWqONHw5ihv69evr2i1kCpqvLS1TvUW1DFHCKic+x940Rw//he7Hn7RO80F51P1CAAAgNIRDKHiFL5o9ylv06ZNZvbs2XZ3sDTbvn27Wxkzfvx4t0qH3oI65ggBlbPl4ZfdypjrJ53jVgAAAEBpCIZQFaogCXf9Wr16td1lrJydyuIuzRVDAGpjx85jZt/vXrPr9wx8h7li/EC7BgAAAEpFMISq0Y5UmjnjaRj1woULSx5IHXfhHB4FYwBQri0P/8GtjGm46kxz6qn8GAcAAEB5OKNE1ailTDNndAuDklIHUgNAPXnm2ZMd29QrELp+Mm1kAAAAKB/BEKpOVUM7d+7s0l41b9681M8cAoBy3L/5Jbcy5vLL3m1byQAAAIByEQyhJrIHUmsej2YOTZs2zc4famtrc78CADj+6l/M/T9+0R0Z0/z5IW4FAAAAlIdgCDWjdrJZs2a5o8zMoQ0bNtgdy0aOHGmGDBli14REAOrdlodeMm+88Ve71hb1wy98p10DAAAA5SIYQk1pIHX2zCFPrWWqHlJINHbsWNPa2mrDIwCoN/du6qwWuuGzg9wKAAAAKB/BEGpOM4d2795tb2ov0/GAAQPcr2bs2rXLzJgxw1YR6eOmTZvcr8QT85IAREVb1B8+8rpda67QuLFdXx8BAACAchAMITZUNTR37lxbQXT06FE7oLq5udnOI/K0Bbwqh5qamszAgQNjGxItXbrUrdiqHkB57t30glsZc921Z7FFPQAAAErUJ+uW0eetdm4NxJLCIM0euvPOO/POG1KF0dSpU82UKVO67HZWK6ps8lVDCrpUBQUAxdr39Gvmxi/ttWsFQhtaL2Y3MgAAAJSkceJEc+TgQXPyxAl3j7xFxRDiT6GPhlTv3bvXtpupqmjo0KHuVzMUHmke0cT2J7ofWq2dzmpBf64PhfR1EgoBKNX9D3RuUX/F+PcQCgEAACBifQiGkCxqy9Icov379+cNifzQah8SLVy4sKpDq9etW+dWxlYxAUApXj76Z7PloT+4I2Oun3y2WwEAAADRIRhCYhUaErW0tJjRo0fbAdaVpKqlefPm2RlI3qRJk9wKAIqjUMhvUf/BEaezRT0AAAAqghlDSJ09e/bYqh0NpT5w4IC7tzuFSGPGjDHjx4+3c4lGjBjhfqV4qlBSZZLCIa+hocFs3rzZHQFA4RQITW1+0lYNyR1fu4jdyAAAAFCW3DOGCIaQcqreURVPGNhUg0IhDZ0Od1QDgEJpi/pbv/47u9ZcoR/e/WG7BgAAAEqVLxiilQyppu3uNbRaQU01qApp7dq1tlKIUAhAqVq/f8itjLnhc4PcCgAAAIgewRBSb/DgwTaoUXFceNNcIs0o0q5h2vmsXBo0rRBKYRQAlEpb1O/73Wt2rS3qtRsZAAAAUCm0kgEAECNfb9lvtm5/2a6v+9TZ5pY5F9g1AAAAUA5ayQAAiDkNm9Z8Ie+6a89yKwAAAKAyCIYAAIiJ+3/8YscW9ZdfdgZb1AMAAKDiCIYAAIgBBUL3P/CSO6JaCAAAANVBMAQAQAxs3X7UtpLJ4EGnmXFjyx+KDwAAAPSGYAgAgBi4974X3MqY6yef7VYAAABAZREMAQBQY79ue7XLFvUNV9FGBgAAgOogGAIAoMbu/sFht8psUd//9Le7IwAAAKCyCIYAAKghu0X9z4Mt6hupFgIAAED1EAwBAFBDd//giFsZM+6jA8wF5/d1RwAAAEDlEQwBAFAj2qJ+67aX3ZExDVee6VYAAABAdRAMAQBQI/c/8GLHFvWqFGKLegAAAFQbwRAAADWy5eHOaqHrrmW2EAAAAKqPYAgAgBp49LFXOrao79//7ea6a8+2awAAAKCaCIYAAKiB+ze/5FbGNFx1ljn1VH4kAwAAoPo4CwUAoMqeefZkly3qr590jlsBAAAA1UUwBABAlYXVQtqifvCgU90RAAAAUF0EQwAAVJF2Ibv/xy+6I2Oua2ToNAAAAGqHYAgAgCq6+wdHzBtv/NWuh1/0TnP5ZWfYNQAAAFALBEMAAFRJdrVQ8+eHuBUAAABQGwRDAABUSXa10LixA+waAAAAqBWCIQAAquDwkTe6VAvd1HyuWwEAAAC1QzAEAEAVrLzr2Y5qIe1ExmwhAAAAxAHBEAAAFbbv6dfMjp8fc0fMFgIAAEB8EAwBAFBhrd8/5FaZaqHhF77THQEAAAC1RTAEAEAFUS0EAACAOCMYAgCggqgWAgAAQJwRDAEAUCFUCwEAACDuCIYAAKiQlmW/dyuqhQAAAFBbb7lbNoIhAAAqYMfOY2bf716z61NPfZu5Zc4Fdg0AAADUUnZARDAEAEAFhLOFrvvU2eY9A9/hjgAAAID4IBgCACBi2dVCN3x2kF0DAAAAcdDHfRSCIQAAIka1EAAAAOIqDIWEYAgAgAhRLQQAAIC4yg6FhGAIAICIvPHGX83KNc+5I6qFAAAAEH8EQwAAROT+B140h4+8btdUCwEAACBu/I5k4c5kBEMAAERA1UJ3/9sRd2RM8+eHUC0EAACAWFM4RDAEAEAEVC308tE/27UCoesnn2PXAAAAQJwRDAEAUKbsaqEbPjfItpIBAAAAccdZKwAAZcquFrru2rPtGgAAAIg7giEAAMqgQIhqIQAAACQVZ64AAJTh7h8coVoIAAAAiUUwBABAiRQI3f/jF90R1UIAAABIHs5eAQAo0co1z9nB0zL8ondSLQQAAIDEIRgCAKAE+55+zWzd/rI7Mqb580OoFgIAAEDC9CEYAgCgFMu+/YxbGTPuowPMuLED3BEAAACQBH3sfwmGAAAo0o6dx8yv2161a1UJqVoIAAAASI5MKCQEQwAAFEEzhcJqoes+dbYZfuE73REAAACQLARDAAAU4d5NL3TZnv6Gzw6yawAAACCJCIYAACiQAqHW7x9yR5nt6RUOAQAAAElFMAQAQIHuWvt8l+3pr59MtRAAAACSjWAIAIACaHv6LQ+95I6Muan5XLcCAAAAkkJDpzsHTwvBEAAABVi55jm3ymxPf/llZ7ijZHr0sVfM3Pm/MVse+oO7BwAAAPWIYAgAgF5oe/o9T/zJrrU9/U3N77XrJGtZ9nv7d1q2snOHNQAAAKRc94IhgiEAAHqimUJhtZC2p7/g/L7uKLn8zmp+ZhIAAADqE8EQAAA9uP+BF83hI6/btXYga/78ELsGAAAAEukt99EhGAIAIA9V1WgnMk+hUP/T3+6OAAAAgITJCoWEYAgAgDzu/sGRLtvTq40MAAAASBOCIQAActD29PduPOKOjJlz03luBQAAAKQHwRAAADmELWTann7Uh9/ljgAAAID0IBgCACCLtqd/9LFX7Frb08+56Xy7BgAAANKGYAgAgIBmCt219qA7Mub6yeeYwYNOdUcAAABAuhAMAQAQ0Pb0zzx70q7Znh4AAABpRzAEAICjaqG7/61z4PRNM95rW8kAAACAVOgTfHQ3znYBAHBULfTy0T/btbanb7jqTLtOozDw8n9nAAAA1AEfDjkEQwAAtMuuFkp7C1m4y9qOnx9zKwAAANQbgiEAANplVwuNGzvArtPqik8MdCtjtv77UbcCAABAvSEYAgDUvXqrFpJxHx3Q0U6254k/meOv/sWuAQAAUF8IhgAAda/eqoWk/+lvN8Mv7OeOTMdObAAAAKgvBEMAgLpWj9VCnkIwb9/vXnMrAAAA1BOCIQBAXavHaiHvgvNOcytjnjn4ulsBAACgnhAMAQDqVj1XC8kF5/V1K1rJAAAA6hXBEACgbtVztZDQSgYAAACCIQBAXar3aiF5z8B3mP79327XCsjYmQwAAKD+EAwBAOpSvVcLeYMHdc4ZevnlzOMBAACA+kEwBACoO1QLdVLVkOeDMgAAANQPgiEAQN2hWqhTGAwdPvKGWwEAAKBeEAwBAOoK1UJdDT6HiiEAAIB6RjAEAKgrVAt11aWV7NibbgUAAIB6QTAEAKgbv2571dy19nl3RLWQvOc9QTDE8GkAAIC6QzAEAKgL2or96y37bSuZUC2UwfBpAACA+kYwBACoCy3LDpjDR16361NPfZv52vxhdl3vGD4NAABQ3wiGAACpd++mI2bHz4+5I2NumXOBueD8vu6ovg0edKpbUTEEAABQjwiGAACplj1XqOGqs9pvZ7ojiK8a8m12AAAAqB8EQwCA1MqeK6QqoVvmnG/X6KTWOgAAANSnPm+1c2sAAFLl1m/8rqOFTOHHd1aOpIUsh6nNT3bMX9q2+VL70dvy0B9M6/cPdfx6FAYPOs3c8NlB5rpPne3uAQAAQKU1TJxojjz/vDl54oS7J4O3CAEAqcRcocKFLWSqsvLu//GLXYZ2R0Wfb9nKZ8zd/3bY3QMAAIDa6EMwBABIH+YKFSccQP3MsyfdythKoUqq9OcHAABAT/pk/ksrGQAgTVTxcuOX9nZUuahKSC1kzNHJT3OYtm5/2a6/tmCYuWL8e2y1kKp6vAfvGx3JY6jqpKsn7XZH3VvXAAAAUBndW8kywRBnyQCAVAlbnxRk3HHbRYRCvbjgvNPcKlMxpG3rV971nLvH2KAoqseQfwsAAIBayQRBGZ1rzs4AAKmhKhfmChUvfIyeee512+Ll5w4Nv+idZsEt77NrAAAAJNtbpo+9hQiGAACpEc6sYa5Q4bRLmLdj5zEbsHnNnx9ClQ8AAEBKKBLqGgsRDAEAUkQtUN4tc853K/QmrBgKdyi7/LIzzLixA9wRAAAA0ohgCACQSlS5FK7/6W/v9ngpFLrjtgvdEQAAANJIu5Fx1gwASIWw/QnFy64UUihEuAYAAJBefot6zvgAAKlw9w+OuFVmFy2UjlAIAAAgfXwQJOGasz4AQCo0XJkJg8Z9dAC7aJWJUAgAACCdFAiFoZBw5gcASIXmL5xrfnj3h80dt11EsAEAAAAUiDNnAEBqvGfgO9wKAAAAQCEIhgAAAAAAAOoUwRAAAAAAAECdIhgCAAAAAACoUwRDAAAAAAAAdYpgCAAAAAAAoE4RDAEAAAAAANQpgiEAAAAAAIA6RTAEAAAAAABQpwiGAAAAAAAA6hTBEAAAAAAAQJ0iGAIAAAAAAKhTBEMAAMCcemp1Tgn2Pf2aWwEAACAOCIYAAIBp/vwQ+/G6T51tP0ZtzxN/MlObnzQ3fmmvuwcAAABx0Oetdm4NAAAQuZeP/tmGQm+88Vd3T8bll51h/uEbw90RAAAAKumaiVeYI88/b06eOOHuySAYAgAARdny0B9M6/cPmcNHXnf3FO49A99hxn10gLniEwPNqA+/y90LAACASssXDNFKBgAACtb6vedNy7IDJYVCcsvfX2BumXMBoRAAAEBMUDEEAADyevSxV8yylc+WHASFaB0DAACoHVrJAABA0TQbKFcopJDnjtsurNpuZgAAACgPrWQAAKBo1117llt1umL8ewiFAAAAUoKKIQAAAAAAgJSjYggAAAAAAABdEAwBAAAAAADUKYIhAAAAAACAOkUwBAAAAAAAUKcIhgAAAAAAAOoUwRAAAAAAAEDq9XG3rgiGAAAAAAAA6kbXcIhgCAAAAAAAoE4RDAEAAAAAANSVzqohgiEAAAAAAIC6kwmHCIYAAAAAAADqUh+CIQAAAAAAgHpFMAQAAAAAAFCnCIYAAAAAAADqFMEQAAAAAABAnSIYAgAAAAAAqFMEQwCA/7+9u01NGAiAAGou4IWkBym9ZCk9QvFAHqBpYhKidpOuYNvAvAfBzdeYjeiPQQgAABBKMQQAAAAQSjEEAAAAEEoxBAAAABBKMQQAAAAQSjEEAAAAEEoxBAAAABBKMQQAAAAQSjEEAAAAEEoxBAAAABBKMQQAAAAQSjEEAAAAEEoxBAAAABBKMQQAAAAQSjEEAAAAEEoxBAAAABBKMQQAAAAQSjEEAAAAEEoxBAAAABCo7RbFEAAAAEAoxRAAAABAmP7fQj3FEAAAAECAqQyaXnuKIQAAAIAQl6VQTzEEAAAAEEoxBAAAABBKMQQAAAAQSjEEAAAAEEoxBAAAABChGZeZYggAAAAgylwOKYYAAAAA4gzlkGIIAAAAIFKjGAIAAABIpRgCAAAACKUYAgAAAAilGAIAAAAI1bw8v7TzY8q64YK2Xd53qWmun4e/RF6ZvDJ5ZfLK5JXJK5M3udzeVOa1m5nvUvqU93E87k6n03l8a7/f754Oh3Ft3Vbmu0RembyyP82bdnVRVXnd8Q+7vnH3Oa8isn6+n+NoTe3vaWm+5YutyusOufv+/XD4wz6P0dbzusBxsO43rm86ci15u/dv2F/O+75tOe96e9337T/mO7jOm86pme/t+nDOnLf+/vde3+v7W39Sv+G8PtjtvgCooJEcaSJDQAAAAABJRU5ErkJggg==)"
      ],
      "metadata": {
        "id": "clxb9mWoMJ5Z"
      }
    },
    {
      "cell_type": "code",
      "source": [
        "w = torch.randn(1,4,requires_grad=True)\n",
        "b = torch.rand(1,1,requires_grad = True)"
      ],
      "metadata": {
        "id": "OtSBRikvIUF9"
      },
      "execution_count": null,
      "outputs": []
    },
    {
      "cell_type": "code",
      "source": [
        "def model(x,w,b):\n",
        "  return x @ w.t() + b"
      ],
      "metadata": {
        "id": "9mFEkNDULrGv"
      },
      "execution_count": null,
      "outputs": []
    },
    {
      "cell_type": "code",
      "source": [
        "def mse_funciton(y_pred, y_target):\n",
        "  return torch.mean((y_pred - y_target)**2)"
      ],
      "metadata": {
        "id": "F54nTTHVM7zf"
      },
      "execution_count": null,
      "outputs": []
    },
    {
      "cell_type": "markdown",
      "source": [
        "#### ***Cycle***"
      ],
      "metadata": {
        "id": "LtrktsZ7SrBs"
      }
    },
    {
      "cell_type": "code",
      "source": [
        "epochs = 10000\n",
        "for i in range(epochs):\n",
        "    y_pred = model(x, w, b)\n",
        "    loss = mse_funciton(y_pred, y)\n",
        "\n",
        "    # Backpropagation\n",
        "    loss.backward()\n",
        "\n",
        "    # Update parameters using gradient descent\n",
        "    with torch.no_grad():\n",
        "        w -= w.grad * 1e-5\n",
        "        b -= b.grad * 1e-5\n",
        "\n",
        "        # Reset gradients to zero\n",
        "        w.grad.zero_()\n",
        "        b.grad.zero_()\n"
      ],
      "metadata": {
        "id": "3YDus5pHMmCI"
      },
      "execution_count": null,
      "outputs": []
    },
    {
      "cell_type": "code",
      "source": [
        "print(f\"y_Target :\\n{y}\\ny_Pred :\\n{y_pred}\\n Loss : {loss}\")"
      ],
      "metadata": {
        "colab": {
          "base_uri": "https://localhost:8080/"
        },
        "id": "ACJ92BxtMsS0",
        "outputId": "8ffe7f16-efc7-4ac2-90a0-420052010834"
      },
      "execution_count": null,
      "outputs": [
        {
          "output_type": "stream",
          "name": "stdout",
          "text": [
            "y_Target :\n",
            "tensor([780., 491., 618., 517., 584., 770., 384., 757., 742., 421., 580., 460.,\n",
            "        338., 897., 932., 782., 512., 418., 855., 597.])\n",
            "y_Pred :\n",
            "tensor([[600.2040],\n",
            "        [672.3354],\n",
            "        [606.7770],\n",
            "        [647.6995],\n",
            "        [501.8893],\n",
            "        [631.5777],\n",
            "        [398.2826],\n",
            "        [758.2416],\n",
            "        [703.2867],\n",
            "        [545.6031],\n",
            "        [556.3786],\n",
            "        [703.3843],\n",
            "        [637.4104],\n",
            "        [713.1539],\n",
            "        [678.9944],\n",
            "        [659.1359],\n",
            "        [491.5903],\n",
            "        [498.6575],\n",
            "        [631.4010],\n",
            "        [534.8915]], grad_fn=<AddBackward0>)\n",
            " Loss : 39207.140625\n"
          ]
        }
      ]
    },
    {
      "cell_type": "markdown",
      "source": [
        "### ***Pytorch Based***"
      ],
      "metadata": {
        "id": "3t5VyjB5YjQh"
      }
    },
    {
      "cell_type": "code",
      "source": [
        "import torch.nn as nn\n",
        "import torch.optim as optim\n",
        "from torch.utils.data import DataLoader, TensorDataset"
      ],
      "metadata": {
        "id": "bvBecuaEYnij"
      },
      "execution_count": null,
      "outputs": []
    },
    {
      "cell_type": "code",
      "source": [
        "# Create DataLoader\n",
        "dataset = TensorDataset(x, y)\n",
        "dataloader = DataLoader(dataset, batch_size=5, shuffle=True)"
      ],
      "metadata": {
        "id": "OKseTrsKZslJ"
      },
      "execution_count": null,
      "outputs": []
    },
    {
      "cell_type": "code",
      "source": [
        "model = nn.Linear(4,1)\n",
        "model.parameters()"
      ],
      "metadata": {
        "colab": {
          "base_uri": "https://localhost:8080/"
        },
        "id": "VkU4q_ikYxfw",
        "outputId": "c904b2fb-44c5-477a-fba0-896ccf2ffbb0"
      },
      "execution_count": null,
      "outputs": [
        {
          "output_type": "execute_result",
          "data": {
            "text/plain": [
              "<generator object Module.parameters at 0x7afef2480660>"
            ]
          },
          "metadata": {},
          "execution_count": 18
        }
      ]
    },
    {
      "cell_type": "code",
      "source": [
        "# Define loss function\n",
        "criterion = nn.MSELoss()\n",
        "\n",
        "# Define optimizer\n",
        "optimizer = optim.SGD(model.parameters(), lr=1e-5)"
      ],
      "metadata": {
        "id": "tVLIcbcKaGQs"
      },
      "execution_count": null,
      "outputs": []
    },
    {
      "cell_type": "code",
      "source": [
        "epochs = 10000\n",
        "losses = []  # To store the loss values\n",
        "epochs = 10000\n",
        "losses = []  # To store the loss values\n",
        "for epoch in range(epochs):\n",
        "    for inputs, targets in dataloader:\n",
        "        # Zero the gradients\n",
        "        optimizer.zero_grad()\n",
        "\n",
        "        # Forward pass\n",
        "        outputs = model(inputs)\n",
        "        loss = criterion(outputs.squeeze(), targets)\n",
        "\n",
        "        # Backward pass\n",
        "        loss.backward()\n",
        "\n",
        "        # Update parameters\n",
        "        optimizer.step()\n",
        "\n",
        "    # Store the loss value for plotting\n",
        "\n",
        "\n",
        "    # Print loss every 1000 epochs\n",
        "    if (epoch+1) % 1000 == 0:\n",
        "        print(f'Epoch [{epoch+1}/{epochs}], Loss: {loss.item():.4f}')\n",
        "        losses.append(loss.item())\n"
      ],
      "metadata": {
        "colab": {
          "base_uri": "https://localhost:8080/"
        },
        "id": "Uo07YpkBY5c_",
        "outputId": "7402de44-c694-4a6c-e919-e10ed266141f"
      },
      "execution_count": null,
      "outputs": [
        {
          "output_type": "stream",
          "name": "stdout",
          "text": [
            "Epoch [1000/10000], Loss: 244.4334\n",
            "Epoch [2000/10000], Loss: 261.8239\n",
            "Epoch [3000/10000], Loss: 98.5480\n",
            "Epoch [4000/10000], Loss: 76.5256\n",
            "Epoch [5000/10000], Loss: 182.4056\n",
            "Epoch [6000/10000], Loss: 157.0927\n",
            "Epoch [7000/10000], Loss: 153.1862\n",
            "Epoch [8000/10000], Loss: 149.6711\n",
            "Epoch [9000/10000], Loss: 222.4096\n",
            "Epoch [10000/10000], Loss: 65.4875\n"
          ]
        }
      ]
    },
    {
      "cell_type": "code",
      "source": [
        "import matplotlib.pyplot as plt\n",
        "plt.plot(range(1, 10+1), losses)\n",
        "plt.xlabel('Epochs')\n",
        "plt.ylabel('Loss')\n",
        "plt.title('Training Loss Curve')\n",
        "plt.grid(True)\n",
        "plt.show()"
      ],
      "metadata": {
        "colab": {
          "base_uri": "https://localhost:8080/",
          "height": 472
        },
        "id": "Qpd1psRBaOaE",
        "outputId": "0af3978d-8ca6-41ba-f097-9d777a0f59c9"
      },
      "execution_count": null,
      "outputs": [
        {
          "output_type": "display_data",
          "data": {
            "text/plain": [
              "<Figure size 640x480 with 1 Axes>"
            ],
            "image/png": "[encoded data removed]"
          },
          "metadata": {}
        }
      ]
    },
    {
      "cell_type": "code",
      "source": [],
      "metadata": {
        "id": "cduk2UmNadVx"
      },
      "execution_count": null,
      "outputs": []
    },
    {
      "cell_type": "markdown",
      "source": [
        "## ***Logistic Regression with Images***"
      ],
      "metadata": {
        "id": "cMM_qsp7bc1u"
      }
    },
    {
      "cell_type": "code",
      "source": [
        "import torch\n",
        "import torchvision\n",
        "import torchvision.transforms as transforms"
      ],
      "metadata": {
        "id": "IUydBu8lbld8"
      },
      "execution_count": null,
      "outputs": []
    },
    {
      "cell_type": "code",
      "source": [
        "transform = transforms.Compose([\n",
        "    transforms.ToTensor(),\n",
        "    transforms.Normalize((0.5,), (0.5,))\n",
        "])"
      ],
      "metadata": {
        "id": "bdRY5c4mjoUD"
      },
      "execution_count": null,
      "outputs": []
    },
    {
      "cell_type": "code",
      "source": [
        "from torchvision.datasets import MNIST\n",
        "train_dataset = torchvision.datasets.MNIST(root='./data', train=True, transform=transform, download=True)\n",
        "test_dataset = torchvision.datasets.MNIST(root='./data', train=False, transform=transform, download=True)"
      ],
      "metadata": {
        "id": "Ch1fXDHscoVh",
        "colab": {
          "base_uri": "https://localhost:8080/"
        },
        "outputId": "6e3389aa-41f5-48b2-fb03-f7abdae2de15"
      },
      "execution_count": null,
      "outputs": [
        {
          "output_type": "stream",
          "name": "stdout",
          "text": [
            "Downloading http://yann.lecun.com/exdb/mnist/train-images-idx3-ubyte.gz\n",
            "Downloading http://yann.lecun.com/exdb/mnist/train-images-idx3-ubyte.gz to ./data/MNIST/raw/train-images-idx3-ubyte.gz\n"
          ]
        },
        {
          "output_type": "stream",
          "name": "stderr",
          "text": [
            "100%|██████████| 9912422/9912422 [00:00<00:00, 71103381.17it/s]\n"
          ]
        },
        {
          "output_type": "stream",
          "name": "stdout",
          "text": [
            "Extracting ./data/MNIST/raw/train-images-idx3-ubyte.gz to ./data/MNIST/raw\n",
            "\n",
            "Downloading http://yann.lecun.com/exdb/mnist/train-labels-idx1-ubyte.gz\n",
            "Downloading http://yann.lecun.com/exdb/mnist/train-labels-idx1-ubyte.gz to ./data/MNIST/raw/train-labels-idx1-ubyte.gz\n"
          ]
        },
        {
          "output_type": "stream",
          "name": "stderr",
          "text": [
            "100%|██████████| 28881/28881 [00:00<00:00, 47578827.11it/s]"
          ]
        },
        {
          "output_type": "stream",
          "name": "stdout",
          "text": [
            "Extracting ./data/MNIST/raw/train-labels-idx1-ubyte.gz to ./data/MNIST/raw\n",
            "\n",
            "Downloading http://yann.lecun.com/exdb/mnist/t10k-images-idx3-ubyte.gz\n",
            "Downloading http://yann.lecun.com/exdb/mnist/t10k-images-idx3-ubyte.gz to ./data/MNIST/raw/t10k-images-idx3-ubyte.gz\n"
          ]
        },
        {
          "output_type": "stream",
          "name": "stderr",
          "text": [
            "\n",
            "100%|██████████| 1648877/1648877 [00:00<00:00, 23186447.97it/s]\n"
          ]
        },
        {
          "output_type": "stream",
          "name": "stdout",
          "text": [
            "Extracting ./data/MNIST/raw/t10k-images-idx3-ubyte.gz to ./data/MNIST/raw\n",
            "\n",
            "Downloading http://yann.lecun.com/exdb/mnist/t10k-labels-idx1-ubyte.gz\n",
            "Downloading http://yann.lecun.com/exdb/mnist/t10k-labels-idx1-ubyte.gz to ./data/MNIST/raw/t10k-labels-idx1-ubyte.gz\n"
          ]
        },
        {
          "output_type": "stream",
          "name": "stderr",
          "text": [
            "100%|██████████| 4542/4542 [00:00<00:00, 7430003.42it/s]\n"
          ]
        },
        {
          "output_type": "stream",
          "name": "stdout",
          "text": [
            "Extracting ./data/MNIST/raw/t10k-labels-idx1-ubyte.gz to ./data/MNIST/raw\n",
            "\n"
          ]
        }
      ]
    },
    {
      "cell_type": "code",
      "source": [
        "from torch.utils.data import random_split\n",
        "train_dataset, val_dataset= random_split(train_dataset, [50000, 10000])\n",
        "print(f\"{len(val_dataset)},{len(train_dataset)}\")"
      ],
      "metadata": {
        "colab": {
          "base_uri": "https://localhost:8080/"
        },
        "id": "x2MC0sGmdBFp",
        "outputId": "d8b58af4-2aae-454e-baef-84d514118d38"
      },
      "execution_count": null,
      "outputs": [
        {
          "output_type": "stream",
          "name": "stdout",
          "text": [
            "10000,50000\n"
          ]
        }
      ]
    },
    {
      "cell_type": "code",
      "source": [
        "from torch.utils.data import DataLoader\n",
        "train_loader = DataLoader(train_dataset, batch_size=128, shuffle=True)\n",
        "val_loader = DataLoader(val_dataset, batch_size=128, shuffle=False)\n",
        "test_loader = DataLoader(test_dataset, batch_size=128, shuffle=False)"
      ],
      "metadata": {
        "id": "T5REmRrndZQt"
      },
      "execution_count": null,
      "outputs": []
    },
    {
      "cell_type": "code",
      "source": [
        "import torch.nn as nn\n",
        "class LogisticRegression(nn.Module):\n",
        "    def __init__(self):\n",
        "        super(LogisticRegression, self).__init__()\n",
        "        self.linear = nn.Linear(28*28, 10)\n",
        "\n",
        "    def forward(self, x):\n",
        "        x = x.view(x.size(0), -1)  # Flatten input tensor\n",
        "        x = self.linear(x)\n",
        "        return x"
      ],
      "metadata": {
        "id": "Bg4i_t0goFfI"
      },
      "execution_count": null,
      "outputs": []
    },
    {
      "cell_type": "code",
      "source": [
        "import torch.optim as optim\n",
        "model = LogisticRegression()\n",
        "criterion = nn.CrossEntropyLoss()\n",
        "optimizer = optim.SGD(model.parameters(), lr=0.01)"
      ],
      "metadata": {
        "id": "29ZlI3tvqkt-"
      },
      "execution_count": null,
      "outputs": []
    },
    {
      "cell_type": "code",
      "source": [
        "num_epochs = 5\n",
        "for epoch in range(num_epochs):\n",
        "    model.train()  # Set model to training mode\n",
        "    for i, (images, labels) in enumerate(train_loader):\n",
        "        optimizer.zero_grad()  # Zero the gradients\n",
        "        outputs = model(images)  # Forward pass\n",
        "        loss = criterion(outputs, labels)  # Calculate loss\n",
        "        loss.backward()  # Backward pass\n",
        "        optimizer.step()  # Update weights\n",
        "\n",
        "        if (i+1) % 100 == 0:\n",
        "            print(f'Epoch [{epoch+1}/{num_epochs}], Step [{i+1}/{len(train_loader)}], Loss: {loss.item():.4f}')\n",
        "\n",
        "    # Validation loop\n",
        "    model.eval()  # Set model to evaluation mode\n",
        "    correct = 0\n",
        "    total = 0\n",
        "    with torch.no_grad():\n",
        "        for images, labels in val_loader:\n",
        "            outputs = model(images)\n",
        "            _, predicted = torch.max(outputs.data, 1)\n",
        "            total += labels.size(0)\n",
        "            correct += (predicted == labels).sum().item()\n",
        "\n",
        "    accuracy = 100 * correct / total\n",
        "    print(f'Validation Accuracy: {accuracy:.2f}%')"
      ],
      "metadata": {
        "id": "qLowywO3rFl9",
        "colab": {
          "base_uri": "https://localhost:8080/"
        },
        "outputId": "5cf6ef8d-5b2d-4d39-85e6-d0cbeb5d7447"
      },
      "execution_count": null,
      "outputs": [
        {
          "output_type": "stream",
          "name": "stdout",
          "text": [
            "Epoch [1/5], Step [100/391], Loss: 0.8107\n",
            "Epoch [1/5], Step [200/391], Loss: 0.6426\n",
            "Epoch [1/5], Step [300/391], Loss: 0.5810\n",
            "Validation Accuracy: 86.87%\n",
            "Epoch [2/5], Step [100/391], Loss: 0.5584\n",
            "Epoch [2/5], Step [200/391], Loss: 0.4640\n",
            "Epoch [2/5], Step [300/391], Loss: 0.4710\n",
            "Validation Accuracy: 88.62%\n",
            "Epoch [3/5], Step [100/391], Loss: 0.4438\n",
            "Epoch [3/5], Step [200/391], Loss: 0.4114\n",
            "Epoch [3/5], Step [300/391], Loss: 0.3625\n",
            "Validation Accuracy: 89.26%\n",
            "Epoch [4/5], Step [100/391], Loss: 0.4128\n",
            "Epoch [4/5], Step [200/391], Loss: 0.3632\n",
            "Epoch [4/5], Step [300/391], Loss: 0.3003\n",
            "Validation Accuracy: 89.69%\n",
            "Epoch [5/5], Step [100/391], Loss: 0.3906\n",
            "Epoch [5/5], Step [200/391], Loss: 0.3773\n",
            "Epoch [5/5], Step [300/391], Loss: 0.3542\n",
            "Validation Accuracy: 90.04%\n"
          ]
        }
      ]
    },
    {
      "cell_type": "code",
      "source": [
        "model.eval()\n",
        "correct = 0\n",
        "total = 0\n",
        "with torch.no_grad():\n",
        "    for images, labels in test_loader:\n",
        "        outputs = model(images)\n",
        "        _, predicted = torch.max(outputs.data, 1)\n",
        "        total += labels.size(0)\n",
        "        correct += (predicted == labels).sum().item()\n",
        "\n",
        "test_accuracy = 100 * correct / total\n",
        "print(f'Test Accuracy: {test_accuracy:.2f}%')"
      ],
      "metadata": {
        "colab": {
          "base_uri": "https://localhost:8080/"
        },
        "id": "SU4oZoQ3lEDa",
        "outputId": "08f56946-da40-4c28-f0bc-76a63e9d726f"
      },
      "execution_count": null,
      "outputs": [
        {
          "output_type": "stream",
          "name": "stdout",
          "text": [
            "Test Accuracy: 90.66%\n"
          ]
        }
      ]
    },
    {
      "cell_type": "markdown",
      "source": [
        "## ***Neural Networks***"
      ],
      "metadata": {
        "id": "mb1bFHNcq8S5"
      }
    },
    {
      "cell_type": "code",
      "source": [
        "import torch\n",
        "import torchvision\n",
        "import torch.optim as optim\n",
        "from torch.utils.data import DataLoader, random_split\n",
        "from torchvision.datasets import MNIST\n",
        "import torchvision.transforms as transforms\n",
        "import torch.nn as nn"
      ],
      "metadata": {
        "id": "5z4jnRO1q_gt"
      },
      "execution_count": 3,
      "outputs": []
    },
    {
      "cell_type": "code",
      "source": [
        "transform = transforms.Compose([\n",
        "    transforms.ToTensor(),\n",
        "    transforms.Normalize((0.5,), (0.5,))\n",
        "])"
      ],
      "metadata": {
        "id": "EKxbGAGv9guF"
      },
      "execution_count": 4,
      "outputs": []
    },
    {
      "cell_type": "code",
      "source": [
        "train_dataset = MNIST(root= \"/data\", train = True, transform=transform, download=True)\n",
        "test_dataset = MNIST(root= \"/data\", train=False, transform=transform, download=True)\n",
        "train_size = int(0.85 * len(train_dataset))\n",
        "val_size = len(train_dataset) - train_size\n",
        "train_dataset, val_dataset = random_split(train_dataset, [train_size, val_size])\n",
        "train_loader = DataLoader(train_dataset, batch_size = 64 , shuffle = True )\n",
        "val_loader = DataLoader(val_dataset, batch_size=128, shuffle=False)\n",
        "test_loader = DataLoader(test_dataset, batch_size=128, shuffle=False)"
      ],
      "metadata": {
        "id": "_IiPfQ8l89ra"
      },
      "execution_count": 5,
      "outputs": []
    },
    {
      "cell_type": "code",
      "source": [
        "class neuralNetwork(nn.Module):\n",
        "  def __init__(self):\n",
        "    super(neuralNetwork, self).__init__()\n",
        "    self.flatten = nn.Flatten\n",
        "    self.linear_relu_stack = nn.Sequential (\n",
        "        nn.Linear(28*28,512),\n",
        "        nn.ReLU(),\n",
        "        nn.Linear(512,512),\n",
        "        nn.ReLU(),\n",
        "        nn.Linear(512,256),\n",
        "        nn.ReLU(),\n",
        "        nn.Linear(256,10),\n",
        "    )\n",
        "  def forward(self,x):\n",
        "    x = x.view(x.size(0), -1)\n",
        "    output = self.linear_relu_stack(x)\n",
        "    return output"
      ],
      "metadata": {
        "id": "pQVXudED4-wX"
      },
      "execution_count": 6,
      "outputs": []
    },
    {
      "cell_type": "code",
      "source": [
        "model = neuralNetwork()\n",
        "optimizer = optim.SGD(model.parameters(), lr=0.01)\n",
        "loss_function = nn.CrossEntropyLoss()"
      ],
      "metadata": {
        "id": "xmQJ_35xCr_L"
      },
      "execution_count": 7,
      "outputs": []
    },
    {
      "cell_type": "code",
      "source": [
        "epochs = 5\n",
        "for epoch in range(epochs):\n",
        "  model.train()\n",
        "  for i,(image,label) in enumerate(train_loader):\n",
        "    optimizer.zero_grad()\n",
        "    pred = model(image)\n",
        "    loss= loss_function(pred,label)\n",
        "    loss.backward()\n",
        "    optimizer.step()\n",
        "    if (i+1) % 100 == 0:\n",
        "            print(f'Epoch [{epoch+1}/{epochs}], Step [{i+1}/{len(train_loader)}], Loss: {loss.item():.4f}')\n",
        "\n",
        "    # Validation loop\n",
        "  model.eval()  # Set model to evaluation mode\n",
        "  correct = 0\n",
        "  total = 0\n",
        "  with torch.no_grad():\n",
        "    for images, labels in val_loader:\n",
        "      outputs = model(images)\n",
        "      _, predicted = torch.max(outputs.data, 1)\n",
        "      total += labels.size(0)\n",
        "      correct += (predicted == labels).sum().item()\n",
        "    accuracy = 100 * correct / total\n",
        "    print(f'Validation Accuracy: {accuracy:.2f}%')"
      ],
      "metadata": {
        "colab": {
          "base_uri": "https://localhost:8080/"
        },
        "id": "3Zevne9BAFkA",
        "outputId": "51051a7f-8dfa-4704-9ca4-6e9235bf9252"
      },
      "execution_count": 8,
      "outputs": [
        {
          "output_type": "stream",
          "name": "stdout",
          "text": [
            "Epoch [1/5], Step [100/797], Loss: 2.2254\n",
            "Epoch [1/5], Step [200/797], Loss: 2.1406\n",
            "Epoch [1/5], Step [300/797], Loss: 1.8579\n",
            "Epoch [1/5], Step [400/797], Loss: 1.3545\n",
            "Epoch [1/5], Step [500/797], Loss: 1.0116\n",
            "Epoch [1/5], Step [600/797], Loss: 0.6998\n",
            "Epoch [1/5], Step [700/797], Loss: 0.6349\n",
            "Validation Accuracy: 83.93%\n",
            "Epoch [2/5], Step [100/797], Loss: 0.4839\n",
            "Epoch [2/5], Step [200/797], Loss: 0.3971\n",
            "Epoch [2/5], Step [300/797], Loss: 0.4046\n",
            "Epoch [2/5], Step [400/797], Loss: 0.4131\n",
            "Epoch [2/5], Step [500/797], Loss: 0.3647\n",
            "Epoch [2/5], Step [600/797], Loss: 0.2835\n",
            "Epoch [2/5], Step [700/797], Loss: 0.3556\n",
            "Validation Accuracy: 89.30%\n",
            "Epoch [3/5], Step [100/797], Loss: 0.4339\n",
            "Epoch [3/5], Step [200/797], Loss: 0.3221\n",
            "Epoch [3/5], Step [300/797], Loss: 0.3553\n",
            "Epoch [3/5], Step [400/797], Loss: 0.3394\n",
            "Epoch [3/5], Step [500/797], Loss: 0.4139\n",
            "Epoch [3/5], Step [600/797], Loss: 0.4976\n",
            "Epoch [3/5], Step [700/797], Loss: 0.2178\n",
            "Validation Accuracy: 90.29%\n",
            "Epoch [4/5], Step [100/797], Loss: 0.2916\n",
            "Epoch [4/5], Step [200/797], Loss: 0.2704\n",
            "Epoch [4/5], Step [300/797], Loss: 0.3488\n",
            "Epoch [4/5], Step [400/797], Loss: 0.4159\n",
            "Epoch [4/5], Step [500/797], Loss: 0.2654\n",
            "Epoch [4/5], Step [600/797], Loss: 0.1726\n",
            "Epoch [4/5], Step [700/797], Loss: 0.3355\n",
            "Validation Accuracy: 91.13%\n",
            "Epoch [5/5], Step [100/797], Loss: 0.3823\n",
            "Epoch [5/5], Step [200/797], Loss: 0.2086\n",
            "Epoch [5/5], Step [300/797], Loss: 0.2405\n",
            "Epoch [5/5], Step [400/797], Loss: 0.1637\n",
            "Epoch [5/5], Step [500/797], Loss: 0.2413\n",
            "Epoch [5/5], Step [600/797], Loss: 0.2332\n",
            "Epoch [5/5], Step [700/797], Loss: 0.2697\n",
            "Validation Accuracy: 92.23%\n"
          ]
        }
      ]
    },
    {
      "cell_type": "code",
      "source": [
        "model.eval()\n",
        "correct = 0\n",
        "total = 0\n",
        "with torch.no_grad():\n",
        "    for images, labels in test_loader:\n",
        "        outputs = model(images)\n",
        "        _, predicted = torch.max(outputs.data, 1)\n",
        "        total += labels.size(0)\n",
        "        correct += (predicted == labels).sum().item()\n",
        "\n",
        "test_accuracy = 100 * correct / total\n",
        "print(f'Test Accuracy: {test_accuracy:.2f}%')"
      ],
      "metadata": {
        "colab": {
          "base_uri": "https://localhost:8080/"
        },
        "id": "HOtgOA1KEYbD",
        "outputId": "2e30d106-8bcb-4a85-a59c-8161b9f8d689"
      },
      "execution_count": 9,
      "outputs": [
        {
          "output_type": "stream",
          "name": "stdout",
          "text": [
            "Test Accuracy: 92.96%\n"
          ]
        }
      ]
    },
    {
      "cell_type": "markdown",
      "source": [
        "## ***Convolutional Neural Networks***"
      ],
      "metadata": {
        "id": "ngCzk2SwKkW9"
      }
    },
    {
      "cell_type": "code",
      "source": [],
      "metadata": {
        "id": "TbapLR4mKZSv"
      },
      "execution_count": null,
      "outputs": []
    }
  ]
}